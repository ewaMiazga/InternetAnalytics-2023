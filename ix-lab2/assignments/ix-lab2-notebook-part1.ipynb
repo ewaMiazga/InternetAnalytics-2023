{
 "cells": [
  {
   "cell_type": "markdown",
   "metadata": {},
   "source": [
    "# Networks: structure, evolution & processes\n",
    "**Internet Analytics - Lab 2**\n",
    "\n",
    "---\n",
    "\n",
    "**Group:** *J*\n",
    "\n",
    "**Names:**\n",
    "* *Ann-Kristin Bergmann*\n",
    "* *Nephele Aesopou*\n",
    "* *Ewa Miazga*\n",
    "\n",
    "---\n",
    "\n",
    "#### Instructions\n",
    "\n",
    "*This is a template for part 1 of the lab. Clearly write your answers, comments and interpretations in Markodown cells. Don't forget that you can add $\\LaTeX$ equations in these cells. Feel free to add or remove any cell.*\n",
    "\n",
    "*Please properly comment your code. Code readability will be considered for grading. To avoid long cells of codes in the notebook, you can also embed long python functions and classes in a separate module. Don’t forget to hand in your module if that is the case. In multiple exercises, you are required to come up with your own method to solve various problems. Be creative and clearly motivate and explain your methods. Creativity and clarity will be considered for grading.*"
   ]
  },
  {
   "cell_type": "markdown",
   "metadata": {},
   "source": [
    "---\n",
    "\n",
    "## 2.1 Exploration of real networks\n",
    "\n",
    "#### Exercise 2.1"
   ]
  },
  {
   "cell_type": "code",
   "execution_count": 2,
   "metadata": {},
   "outputs": [],
   "source": [
    "# Imports\n",
    "import pandas as pd\n",
    "import networkx as nx\n",
    "import matplotlib.pyplot as plt\n",
    "import collections\n",
    "import numpy as np"
   ]
  },
  {
   "cell_type": "code",
   "execution_count": 3,
   "metadata": {},
   "outputs": [],
   "source": [
    "# Function that loads the networks from the data folder\n",
    "def load_data(file_name, comment, is_header):\n",
    "    network = pd.read_csv(f'../data/{file_name}', comment = comment, header = is_header)\n",
    "    network.columns = ['fromNode', 'toNode']\n",
    "    return network"
   ]
  },
  {
   "cell_type": "code",
   "execution_count": 4,
   "metadata": {},
   "outputs": [
    {
     "data": {
      "text/html": [
       "<div>\n",
       "<style scoped>\n",
       "    .dataframe tbody tr th:only-of-type {\n",
       "        vertical-align: middle;\n",
       "    }\n",
       "\n",
       "    .dataframe tbody tr th {\n",
       "        vertical-align: top;\n",
       "    }\n",
       "\n",
       "    .dataframe thead th {\n",
       "        text-align: right;\n",
       "    }\n",
       "</style>\n",
       "<table border=\"1\" class=\"dataframe\">\n",
       "  <thead>\n",
       "    <tr style=\"text-align: right;\">\n",
       "      <th></th>\n",
       "      <th>fromNode</th>\n",
       "      <th>toNode</th>\n",
       "    </tr>\n",
       "  </thead>\n",
       "  <tbody>\n",
       "    <tr>\n",
       "      <th>0</th>\n",
       "      <td>0</td>\n",
       "      <td>11932</td>\n",
       "    </tr>\n",
       "    <tr>\n",
       "      <th>1</th>\n",
       "      <td>1</td>\n",
       "      <td>5128</td>\n",
       "    </tr>\n",
       "    <tr>\n",
       "      <th>2</th>\n",
       "      <td>2</td>\n",
       "      <td>7008</td>\n",
       "    </tr>\n",
       "    <tr>\n",
       "      <th>3</th>\n",
       "      <td>3</td>\n",
       "      <td>10476</td>\n",
       "    </tr>\n",
       "    <tr>\n",
       "      <th>4</th>\n",
       "      <td>4</td>\n",
       "      <td>9671</td>\n",
       "    </tr>\n",
       "  </tbody>\n",
       "</table>\n",
       "</div>"
      ],
      "text/plain": [
       "   fromNode  toNode\n",
       "0         0   11932\n",
       "1         1    5128\n",
       "2         2    7008\n",
       "3         3   10476\n",
       "4         4    9671"
      ]
     },
     "execution_count": 4,
     "metadata": {},
     "output_type": "execute_result"
    }
   ],
   "source": [
    "network1 = load_data('network1.csv', '#', None)\n",
    "network1.head()"
   ]
  },
  {
   "cell_type": "code",
   "execution_count": 5,
   "metadata": {},
   "outputs": [],
   "source": [
    "def create_graph(network):\n",
    "    G = nx.Graph()\n",
    "    G = nx.from_pandas_edgelist(network, 'fromNode', 'toNode')\n",
    "    return G"
   ]
  },
  {
   "cell_type": "code",
   "execution_count": 6,
   "metadata": {},
   "outputs": [],
   "source": [
    "G = create_graph(network1)"
   ]
  },
  {
   "cell_type": "code",
   "execution_count": 7,
   "metadata": {},
   "outputs": [],
   "source": [
    "# Get the number of edges and the number of nodes of the graph.\n",
    "def graph_info(graph):\n",
    "    num_edges = G.number_of_edges()\n",
    "    num_nodes = G.number_of_nodes()\n",
    "    return f'num of edges: {num_edges}, num of nodes: {num_nodes}'"
   ]
  },
  {
   "cell_type": "code",
   "execution_count": 8,
   "metadata": {},
   "outputs": [
    {
     "data": {
      "text/plain": [
       "'num of edges: 18584, num of nodes: 13033'"
      ]
     },
     "execution_count": 8,
     "metadata": {},
     "output_type": "execute_result"
    }
   ],
   "source": [
    "graph_info(G)"
   ]
  },
  {
   "cell_type": "markdown",
   "metadata": {},
   "source": [
    "#### Exercise 2.2:  Node degree distribution"
   ]
  },
  {
   "cell_type": "markdown",
   "metadata": {},
   "source": [
    "### *Initial Exploration of the node degrees*"
   ]
  },
  {
   "cell_type": "code",
   "execution_count": 9,
   "metadata": {},
   "outputs": [],
   "source": [
    "def get_degrees_count(G):\n",
    "    degree_sequence = sorted((val for (node, val) in G.degree()), reverse=False)\n",
    "    degreeCount = collections.Counter(degree_sequence)\n",
    "    deg, cnt = zip(*degreeCount.items())\n",
    "    return deg, cnt\n",
    "\n",
    "# Given the graph, plot the node degree vs. its frequency in a log-log plot.\n",
    "def display_degree_freq(G):\n",
    "    deg, cnt = get_degrees_count(G)\n",
    "\n",
    "    fig, ax = plt.subplots(ncols=1, figsize=(16, 4))\n",
    "    plt.plot(np.log(deg), np.log(cnt), color='crimson', marker='.', zorder=2)\n",
    "    ax.set_ylabel('degree frequency (log)')\n",
    "    ax.set_xlabel('degree (log)')\n",
    "    return plt"
   ]
  },
  {
   "cell_type": "code",
   "execution_count": 10,
   "metadata": {},
   "outputs": [
    {
     "data": {
      "text/plain": [
       "<module 'matplotlib.pyplot' from 'c:\\\\Users\\\\ewa.miazga\\\\AppData\\\\Local\\\\Programs\\\\Python\\\\Python39\\\\lib\\\\site-packages\\\\matplotlib\\\\pyplot.py'>"
      ]
     },
     "execution_count": 10,
     "metadata": {},
     "output_type": "execute_result"
    },
    {
     "data": {
      "image/png": "[encoded data removed]",
      "text/plain": [
       "<Figure size 1600x400 with 1 Axes>"
      ]
     },
     "metadata": {},
     "output_type": "display_data"
    }
   ],
   "source": [
    "display_degree_freq(G)"
   ]
  },
  {
   "cell_type": "code",
   "execution_count": 11,
   "metadata": {},
   "outputs": [],
   "source": [
    "# Plot the degree of the node vs. its cumulative frequency\n",
    "def display_cum_degree_freq(G):\n",
    "    deg, cnt = get_degrees_count(G)\n",
    "    cum_deg = np.cumsum(deg)\n",
    "    fig, ax = plt.subplots(ncols=1, figsize=(16, 4))\n",
    "    plt.plot(cum_deg, cnt, color='crimson', marker='.', zorder=2)\n",
    "    ax.set_ylabel('Cumulative degree frequency')\n",
    "    ax.set_xlabel('degree')\n",
    "    return plt"
   ]
  },
  {
   "cell_type": "code",
   "execution_count": 12,
   "metadata": {},
   "outputs": [
    {
     "data": {
      "text/plain": [
       "<module 'matplotlib.pyplot' from 'c:\\\\Users\\\\ewa.miazga\\\\AppData\\\\Local\\\\Programs\\\\Python\\\\Python39\\\\lib\\\\site-packages\\\\matplotlib\\\\pyplot.py'>"
      ]
     },
     "execution_count": 12,
     "metadata": {},
     "output_type": "execute_result"
    },
    {
     "data": {
      "image/png": "[encoded data removed]",
      "text/plain": [
       "<Figure size 1600x400 with 1 Axes>"
      ]
     },
     "metadata": {},
     "output_type": "display_data"
    }
   ],
   "source": [
    "display_cum_degree_freq(G)\n",
    "# This plot reminds us of the power law, hence we investigate further.\n"
   ]
  },
  {
   "cell_type": "code",
   "execution_count": 13,
   "metadata": {},
   "outputs": [],
   "source": [
    "# Plot the degree vs. the probability that a node has greater or equal degree using log-log plot.\n",
    "def display_power_law_plot(G):\n",
    "    deg, cnt = get_degrees_count(G)\n",
    "    #Compute the cumulative sum of the degree counts\n",
    "    cum_degree_counts = np.cumsum(cnt)\n",
    "    # number of nodes with degree >= x\n",
    "    cum_freq = np.flip(cum_degree_counts)\n",
    "    plt.loglog(deg, cum_freq)\n",
    "    plt.xlabel(\"Node degree d\")\n",
    "    plt.ylabel(\"P(node has degree >= d)\")\n"
   ]
  },
  {
   "cell_type": "code",
   "execution_count": 14,
   "metadata": {},
   "outputs": [
    {
     "data": {
      "image/png": "[encoded data removed]",
      "text/plain": [
       "<Figure size 640x480 with 1 Axes>"
      ]
     },
     "metadata": {},
     "output_type": "display_data"
    }
   ],
   "source": [
    "display_power_law_plot(G)"
   ]
  },
  {
   "cell_type": "markdown",
   "metadata": {},
   "source": [
    "1. **What kind of plot do you think is useful for this task?**\n",
    "We used line plots for this task. Moreover, because the degrees and their frequency have a very large range, we sometimes have to plot the log-log plot, to gain a more reprsentative understanding. For the second and third plots we also use the cumulative function."
   ]
  },
  {
   "cell_type": "markdown",
   "metadata": {},
   "source": [
    "2. **Can you list some of the properties of the degree distribution?**\n",
    " * From the first graph, we see that the log of the degrees and the log of the frequency is inversely proportional.\n",
    " * A great number of the nodes has degree 1.\n",
    " * An important graph property is the degree distribution function P(k), that describes the probability to find a node with k edges. Using the notion from the lectures, we plot the third graph and discover a well-known probability distribution shape, the power law"
   ]
  },
  {
   "cell_type": "markdown",
   "metadata": {},
   "source": [
    "3. **Is it close to a well-known probability distribution? If so, provide an estimation of its parameter(s)?**\n",
    "By the third plot, it looks like a power-law distribution. Its slope is equal to -γ .\n"
   ]
  },
  {
   "cell_type": "code",
   "execution_count": 15,
   "metadata": {},
   "outputs": [
    {
     "name": "stdout",
     "output_type": "stream",
     "text": [
      "Calculating best minimal value for power law fit\n",
      "alpha =  2.1452776399099993\n"
     ]
    },
    {
     "name": "stderr",
     "output_type": "stream",
     "text": [
      "c:\\Users\\ewa.miazga\\AppData\\Local\\Programs\\Python\\Python39\\lib\\site-packages\\powerlaw.py:1195: RuntimeWarning: divide by zero encountered in scalar divide\n",
      "  C = 1.0/C\n",
      "c:\\Users\\ewa.miazga\\AppData\\Local\\Programs\\Python\\Python39\\lib\\site-packages\\scipy\\optimize\\_optimize.py:863: RuntimeWarning: invalid value encountered in subtract\n",
      "  np.max(np.abs(fsim[0] - fsim[1:])) <= fatol):\n"
     ]
    }
   ],
   "source": [
    "# To run this you need to install powerlaw library.\n",
    "import powerlaw\n",
    "\n",
    "degree_sequence = sorted((val for (node, val) in G.degree()), reverse=False)\n",
    "results=powerlaw.Fit(degree_sequence, discrete=True, estimate_discrete=False)\n",
    "\n",
    "print('alpha = ',results.power_law.alpha)"
   ]
  },
  {
   "cell_type": "markdown",
   "metadata": {},
   "source": [
    "Using the powerlaw package we get the slope parameter of our distribution. In this package, alpha is equal to gamma, the slope.\n",
    "Gamma = 2.145"
   ]
  },
  {
   "cell_type": "markdown",
   "metadata": {},
   "source": [
    "#### Exercise 2.3: Giant component"
   ]
  },
  {
   "cell_type": "code",
   "execution_count": 16,
   "metadata": {},
   "outputs": [],
   "source": [
    "def calc_connected_components_num(G):\n",
    "    return nx.number_connected_components(G)"
   ]
  },
  {
   "cell_type": "code",
   "execution_count": 17,
   "metadata": {},
   "outputs": [
    {
     "name": "stdout",
     "output_type": "stream",
     "text": [
      "Number of connected components in G is 192\n"
     ]
    }
   ],
   "source": [
    "print(\"Number of connected components in G is\", calc_connected_components_num(G))"
   ]
  },
  {
   "cell_type": "code",
   "execution_count": 18,
   "metadata": {},
   "outputs": [],
   "source": [
    "# Calculate the average degree (c) of the graph. Return TRUE, i.e. the graph has a giant component, if (c>1).\n",
    "def is_giant_component(G):\n",
    "    deg, cnt = get_degrees_count(G)\n",
    "    np_cnt = np.array(cnt)\n",
    "    np_deg = np.array(deg)\n",
    "    c = sum(np_cnt * np_deg) / len(G)\n",
    "    print(f'Average graph degree: {c}')\n",
    "    return c > 1\n",
    "\n",
    "def giant_component_info(G):\n",
    "    if is_giant_component(G):\n",
    "        Gcc = sorted(nx.connected_components(G), key=len, reverse=True)\n",
    "        G0 = G.subgraph(Gcc[0])\n",
    "        print(\"The giant component is a\", G0)\n",
    "    else:\n",
    "        print(\"There is no giant component\")"
   ]
  },
  {
   "cell_type": "code",
   "execution_count": 19,
   "metadata": {},
   "outputs": [
    {
     "name": "stdout",
     "output_type": "stream",
     "text": [
      "Average graph degree: 2.8518376429064682\n",
      "The giant component is a Graph with 12576 nodes and 18317 edges\n"
     ]
    }
   ],
   "source": [
    "giant_component_info(G)"
   ]
  },
  {
   "cell_type": "markdown",
   "metadata": {},
   "source": [
    "#### Exercise 2.4: Short paths & Small-worlds"
   ]
  },
  {
   "cell_type": "code",
   "execution_count": 20,
   "metadata": {},
   "outputs": [],
   "source": [
    "def get_avg_paths_length(G):\n",
    "    avg_length = []\n",
    "    for C in (G.subgraph(c).copy() for c in nx.connected_components(G)):\n",
    "        avg_length.append(nx.average_shortest_path_length(C))\n",
    "    return sum(avg_length) / len(avg_length)"
   ]
  },
  {
   "cell_type": "code",
   "execution_count": 21,
   "metadata": {},
   "outputs": [
    {
     "data": {
      "text/plain": [
       "1.1072818079387936"
      ]
     },
     "execution_count": 21,
     "metadata": {},
     "output_type": "execute_result"
    }
   ],
   "source": [
    "# Average length of connection between every two nodes in graph\n",
    "get_avg_paths_length(G)"
   ]
  },
  {
   "cell_type": "code",
   "execution_count": 22,
   "metadata": {},
   "outputs": [],
   "source": [
    "def get_shortest_paths(G):\n",
    "    shortest_paths = list(nx.shortest_path_length(G))\n",
    "    paths_list = []\n",
    "    for node in shortest_paths:\n",
    "        temp = [value for value in node[1].values()]\n",
    "        paths_list.extend(temp)\n",
    "    return paths_list"
   ]
  },
  {
   "cell_type": "code",
   "execution_count": 23,
   "metadata": {},
   "outputs": [],
   "source": [
    "# Assign to paths_list the list with shortest paths for any node in G.\n",
    "paths_list = get_shortest_paths(G)"
   ]
  },
  {
   "cell_type": "code",
   "execution_count": 24,
   "metadata": {},
   "outputs": [],
   "source": [
    "# Distribution of path lenghts between any two nodes in the network.\n",
    "# Plot the length of the shortest path between two nodes and the frequency of that lenght arising.\n",
    "def display_shortest_paths_dist(paths_list):\n",
    "    degreeCount = collections.Counter(paths_list)\n",
    "    deg, cnt = zip(*degreeCount.items())\n",
    "\n",
    "    fig, ax = plt.subplots(ncols=1, figsize=(16, 4))\n",
    "    ax.bar(deg, cnt)\n",
    "    ax.set_ylabel('count (10^7)')\n",
    "    ax.set_xlabel('shortest path length')\n",
    "    return plt"
   ]
  },
  {
   "cell_type": "code",
   "execution_count": 25,
   "metadata": {},
   "outputs": [
    {
     "data": {
      "text/plain": [
       "<module 'matplotlib.pyplot' from 'c:\\\\Users\\\\ewa.miazga\\\\AppData\\\\Local\\\\Programs\\\\Python\\\\Python39\\\\lib\\\\site-packages\\\\matplotlib\\\\pyplot.py'>"
      ]
     },
     "execution_count": 25,
     "metadata": {},
     "output_type": "execute_result"
    },
    {
     "data": {
      "image/png": "[encoded data removed]",
      "text/plain": [
       "<Figure size 1600x400 with 1 Axes>"
      ]
     },
     "metadata": {},
     "output_type": "display_data"
    }
   ],
   "source": [
    "display_shortest_paths_dist(paths_list)"
   ]
  },
  {
   "cell_type": "code",
   "execution_count": 26,
   "metadata": {},
   "outputs": [],
   "source": [
    "# Find the average number of nodes reachable within a distance r of any other node in the network.\n",
    "def reachable_r(r, paths_list):\n",
    "    how_many = 0\n",
    "    reachable = [1 for node in paths_list if node <=r]\n",
    "    return (sum(reachable) / len(paths_list)) * 100"
   ]
  },
  {
   "cell_type": "code",
   "execution_count": 27,
   "metadata": {},
   "outputs": [
    {
     "name": "stdout",
     "output_type": "stream",
     "text": [
      "Average # of noder reachable within distance=2 is 3.458302466620528\n",
      "Average # of noder reachable within distance=6 is 97.69460707504733\n",
      "Average # of noder reachable within distance=10 is 99.99949417402605\n"
     ]
    }
   ],
   "source": [
    "print(\"Average # of noder reachable within distance=2 is\", reachable_r(2, paths_list))\n",
    "print(\"Average # of noder reachable within distance=6 is\", reachable_r(6, paths_list))\n",
    "print(\"Average # of noder reachable within distance=10 is\", reachable_r(10, paths_list))"
   ]
  },
  {
   "cell_type": "markdown",
   "metadata": {},
   "source": [
    "**Do you think that network1 is a small-world?**\n",
    "According to the above, we can agree with the theory of Duncan Watts, relating to Small Worlds. It is clear that 98% of the nodes in the graph are reachable within a distance of 6 edges = \"six degrees of separation\"."
   ]
  },
  {
   "cell_type": "markdown",
   "metadata": {},
   "source": [
    "#### Exercise 2.5: Network comparison"
   ]
  },
  {
   "cell_type": "code",
   "execution_count": 28,
   "metadata": {},
   "outputs": [
    {
     "data": {
      "text/html": [
       "<div>\n",
       "<style scoped>\n",
       "    .dataframe tbody tr th:only-of-type {\n",
       "        vertical-align: middle;\n",
       "    }\n",
       "\n",
       "    .dataframe tbody tr th {\n",
       "        vertical-align: top;\n",
       "    }\n",
       "\n",
       "    .dataframe thead th {\n",
       "        text-align: right;\n",
       "    }\n",
       "</style>\n",
       "<table border=\"1\" class=\"dataframe\">\n",
       "  <thead>\n",
       "    <tr style=\"text-align: right;\">\n",
       "      <th></th>\n",
       "      <th>fromNode</th>\n",
       "      <th>toNode</th>\n",
       "    </tr>\n",
       "  </thead>\n",
       "  <tbody>\n",
       "    <tr>\n",
       "      <th>0</th>\n",
       "      <td>135627</td>\n",
       "      <td>135630</td>\n",
       "    </tr>\n",
       "    <tr>\n",
       "      <th>1</th>\n",
       "      <td>135627</td>\n",
       "      <td>135623</td>\n",
       "    </tr>\n",
       "    <tr>\n",
       "      <th>2</th>\n",
       "      <td>135627</td>\n",
       "      <td>135625</td>\n",
       "    </tr>\n",
       "    <tr>\n",
       "      <th>3</th>\n",
       "      <td>135627</td>\n",
       "      <td>135626</td>\n",
       "    </tr>\n",
       "    <tr>\n",
       "      <th>4</th>\n",
       "      <td>137038</td>\n",
       "      <td>137040</td>\n",
       "    </tr>\n",
       "  </tbody>\n",
       "</table>\n",
       "</div>"
      ],
      "text/plain": [
       "   fromNode  toNode\n",
       "0    135627  135630\n",
       "1    135627  135623\n",
       "2    135627  135625\n",
       "3    135627  135626\n",
       "4    137038  137040"
      ]
     },
     "execution_count": 28,
     "metadata": {},
     "output_type": "execute_result"
    }
   ],
   "source": [
    "network2 = load_data('network2.csv', '#', None)\n",
    "network2.head()"
   ]
  },
  {
   "cell_type": "markdown",
   "metadata": {},
   "source": [
    "**Properties of previous network**"
   ]
  },
  {
   "cell_type": "code",
   "execution_count": 29,
   "metadata": {},
   "outputs": [
    {
     "data": {
      "text/plain": [
       "'num of edges: 18584, num of nodes: 13033'"
      ]
     },
     "execution_count": 29,
     "metadata": {},
     "output_type": "execute_result"
    }
   ],
   "source": [
    "# Create the graph of second network\n",
    "G2 = create_graph(network2)\n",
    "\n",
    "# Calculate num of edges and nodes in the graph\n",
    "graph_info(G2)"
   ]
  },
  {
   "cell_type": "code",
   "execution_count": 30,
   "metadata": {},
   "outputs": [
    {
     "data": {
      "text/plain": [
       "<module 'matplotlib.pyplot' from 'c:\\\\Users\\\\ewa.miazga\\\\AppData\\\\Local\\\\Programs\\\\Python\\\\Python39\\\\lib\\\\site-packages\\\\matplotlib\\\\pyplot.py'>"
      ]
     },
     "execution_count": 30,
     "metadata": {},
     "output_type": "execute_result"
    },
    {
     "data": {
      "image/png": "[encoded data removed]",
      "text/plain": [
       "<Figure size 1600x400 with 1 Axes>"
      ]
     },
     "metadata": {},
     "output_type": "display_data"
    }
   ],
   "source": [
    "# Distribution of degrees in the network\n",
    "display_degree_freq(G2)"
   ]
  },
  {
   "cell_type": "code",
   "execution_count": 31,
   "metadata": {},
   "outputs": [],
   "source": [
    "# Draw the graph\n",
    "#draw_graph(G2)"
   ]
  },
  {
   "cell_type": "code",
   "execution_count": 32,
   "metadata": {},
   "outputs": [
    {
     "name": "stdout",
     "output_type": "stream",
     "text": [
      "Number of connected components in G is 5\n"
     ]
    }
   ],
   "source": [
    "# Number of connected components in graph\n",
    "print(\"Number of connected components in G is\", calc_connected_components_num(G2))"
   ]
  },
  {
   "cell_type": "code",
   "execution_count": 33,
   "metadata": {},
   "outputs": [
    {
     "name": "stdout",
     "output_type": "stream",
     "text": [
      "Average graph degree: 3.2790294627383014\n",
      "The giant component is a Graph with 26481 nodes and 43437 edges\n"
     ]
    }
   ],
   "source": [
    "# Find giant component of G2 and show its properties, if it exists.\n",
    "giant_component_info(G2)"
   ]
  },
  {
   "cell_type": "code",
   "execution_count": 34,
   "metadata": {},
   "outputs": [
    {
     "data": {
      "text/plain": [
       "21.66007803486037"
      ]
     },
     "execution_count": 34,
     "metadata": {},
     "output_type": "execute_result"
    }
   ],
   "source": [
    "# Average length of connection between every two nodes in graph\n",
    "get_avg_paths_length(G2)"
   ]
  },
  {
   "cell_type": "code",
   "execution_count": 35,
   "metadata": {},
   "outputs": [],
   "source": [
    "del paths_list"
   ]
  },
  {
   "cell_type": "code",
   "execution_count": 36,
   "metadata": {},
   "outputs": [],
   "source": [
    "paths_list_G2 = get_shortest_paths(G2)\n"
   ]
  },
  {
   "cell_type": "code",
   "execution_count": 37,
   "metadata": {},
   "outputs": [
    {
     "data": {
      "text/plain": [
       "<module 'matplotlib.pyplot' from 'c:\\\\Users\\\\ewa.miazga\\\\AppData\\\\Local\\\\Programs\\\\Python\\\\Python39\\\\lib\\\\site-packages\\\\matplotlib\\\\pyplot.py'>"
      ]
     },
     "execution_count": 37,
     "metadata": {},
     "output_type": "execute_result"
    },
    {
     "data": {
      "image/png": "[encoded data removed]",
      "text/plain": [
       "<Figure size 1600x400 with 1 Axes>"
      ]
     },
     "metadata": {},
     "output_type": "display_data"
    }
   ],
   "source": [
    "display_shortest_paths_dist(paths_list_G2)"
   ]
  },
  {
   "cell_type": "code",
   "execution_count": 38,
   "metadata": {},
   "outputs": [
    {
     "name": "stdout",
     "output_type": "stream",
     "text": [
      "Average # of noder reachable within distance=2 is 0.040658550789304464\n",
      "Average # of noder reachable within distance=6 is 0.2727144386679902\n",
      "Average # of noder reachable within distance=10 is 0.7305704823513104\n"
     ]
    }
   ],
   "source": [
    "print(\"Average # of noder reachable within distance=2 is\", reachable_r(2, paths_list_G2))\n",
    "print(\"Average # of noder reachable within distance=6 is\", reachable_r(6, paths_list_G2))\n",
    "print(\"Average # of noder reachable within distance=10 is\", reachable_r(10, paths_list_G2))"
   ]
  },
  {
   "cell_type": "markdown",
   "metadata": {},
   "source": [
    "#### Exercise 2.6: Network identification"
   ]
  },
  {
   "cell_type": "markdown",
   "metadata": {},
   "source": [
    "\n",
    "We believe that the main distinction is the number of connected components and the degree distribution. \n",
    "\n",
    "We assume that the network with the less connected components, Network 2, is the New York city road map, as it is almost always possible to go from one road to another. Also the average node degrees is around three, which makes sense as an intersection usually has three to four roads \"incident\" to it and cannot have many more. Finally, average path length is around 22, which agrees with our intuition that these are the roads of NY. To get to an other intersection you must sometimes take a longer way around.\n",
    "\n",
    "On the other hand, the routers of the Internet are usually not physically connected to one another. Hence, in Network 1, the number of connected components is large (192 compared to 5!) and each component maybe represents a neighbourhood/house in which the routers are physically connected. The average degree of the nodes is around 2.9 which is realistic because most of the devices are wirelessly conencted to the internet and physical connections are very few. Also, the average shortest path length is around 1 which confirms the fact that most of the routers within the connected components are connected through an edge."
   ]
  }
 ],
 "metadata": {
  "kernelspec": {
   "display_name": "Python 3 (ipykernel)",
   "language": "python",
   "name": "python3"
  },
  "language_info": {
   "codemirror_mode": {
    "name": "ipython",
    "version": 3
   },
   "file_extension": ".py",
   "mimetype": "text/x-python",
   "name": "python",
   "nbconvert_exporter": "python",
   "pygments_lexer": "ipython3",
   "version": "3.10.9"
  }
 },
 "nbformat": 4,
 "nbformat_minor": 2
}
