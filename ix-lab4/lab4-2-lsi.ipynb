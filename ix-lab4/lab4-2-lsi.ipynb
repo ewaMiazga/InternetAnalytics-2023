{
 "cells": [
  {
   "attachments": {},
   "cell_type": "markdown",
   "metadata": {},
   "source": [
    "# Text 2: Latent semantic indexing\n",
    "**Internet Analytics - Lab 4**\n",
    "\n",
    "---\n",
    "\n",
    "**Group:** *J*\n",
    "\n",
    "**Names:**\n",
    "\n",
    "* *Ann-Kristin Bergmann*\n",
    "* *Nephele Aesopou*\n",
    "* *Ewa Miazga*\n",
    "\n",
    "---\n",
    "\n",
    "#### Instructions\n",
    "\n",
    "*This is a template for part 2 of the lab. Clearly write your answers, comments and interpretations in Markodown cells. Don't forget that you can add $\\LaTeX$ equations in these cells. Feel free to add or remove any cell.*\n",
    "\n",
    "*Please properly comment your code. Code readability will be considered for grading. To avoid long cells of codes in the notebook, you can also embed long python functions and classes in a separate module. Don’t forget to hand in your module if that is the case. In multiple exercises, you are required to come up with your own method to solve various problems. Be creative and clearly motivate and explain your methods. Creativity and clarity will be considered for grading.*"
   ]
  },
  {
   "cell_type": "code",
   "execution_count": 142,
   "metadata": {},
   "outputs": [],
   "source": [
    "import pickle\n",
    "import numpy as np\n",
    "import scipy\n",
    "from scipy.sparse.linalg import svds\n",
    "import pandas as pd\n",
    "import utils\n",
    "\n",
    "from sklearn.metrics.pairwise import cosine_similarity\n",
    "\n",
    "from itertools import combinations"
   ]
  },
  {
   "cell_type": "code",
   "execution_count": 97,
   "metadata": {},
   "outputs": [],
   "source": [
    "# load term_document matrix as well as list that map matrix indices to terms/documents\n",
    "\n",
    "file_path_1 = './courses_list (1).txt'\n",
    "file_path_2 = './unique_word_corpus (1).txt'\n",
    "\n",
    "courses_overview = utils.load_json('./courses_list (1).txt')\n",
    "\n",
    "terms_overview = utils.load_json('./unique_word_corpus (1).txt')\n",
    "\n",
    "term_document_matrix = scipy.sparse.load_npz(\"X_matrix (1).npz\")\n",
    "\n"
   ]
  },
  {
   "cell_type": "code",
   "execution_count": 98,
   "metadata": {},
   "outputs": [],
   "source": [
    "# mapping functions that given an index return the corresponding term/course\n",
    "def id_to_course(id_in_matrix):\n",
    "    return courses_overview[id_in_matrix]\n",
    "\n",
    "def id_to_term(id_in_matrix):\n",
    "    return terms_overview[id_in_matrix]"
   ]
  },
  {
   "attachments": {},
   "cell_type": "markdown",
   "metadata": {},
   "source": [
    "## Exercise 4.4: Latent semantic indexing"
   ]
  },
  {
   "cell_type": "code",
   "execution_count": 99,
   "metadata": {},
   "outputs": [],
   "source": [
    "# we want to extract 300 singular values/singular vectors\n",
    "U,S,VT = svds(A= term_document_matrix, k = 300)\n"
   ]
  },
  {
   "cell_type": "code",
   "execution_count": 100,
   "metadata": {},
   "outputs": [
    {
     "name": "stdout",
     "output_type": "stream",
     "text": [
      "Shape of term-document-matrix: (10820, 854), U: (10820, 300) and VT: (300, 854)\n"
     ]
    }
   ],
   "source": [
    "print(\"Shape of term-document-matrix: {}, U: {} and VT: {}\".format(term_document_matrix.shape, U.shape, VT.shape))\n"
   ]
  },
  {
   "cell_type": "code",
   "execution_count": 101,
   "metadata": {},
   "outputs": [
    {
     "name": "stdout",
     "output_type": "stream",
     "text": [
      "10820\n"
     ]
    }
   ],
   "source": [
    "print(len(terms_overview))"
   ]
  },
  {
   "cell_type": "code",
   "execution_count": 102,
   "metadata": {},
   "outputs": [
    {
     "name": "stdout",
     "output_type": "stream",
     "text": [
      "854\n"
     ]
    }
   ],
   "source": [
    "print(len(courses_overview))"
   ]
  },
  {
   "cell_type": "code",
   "execution_count": 109,
   "metadata": {},
   "outputs": [],
   "source": [
    "topics_count = U.shape[1]"
   ]
  },
  {
   "attachments": {},
   "cell_type": "markdown",
   "metadata": {},
   "source": [
    "A row in matrix U represents how a term is associated with different topics, which are represented through the columns. Different rows refer to different terms. The value indicates the association of each term with the corresponding topic. The V^T matrix is build similary with the difference that the columns refer to the different documents, in our case courses, in the corpus. The S matrix contains the singular values arranged in ascending order on the diagonal. The values represent the importance of the topic for the given data, in particular they indicate how much variance can be explained by each topic. A high singualar value means that more significant patterns in the data are captured by the topic.\n",
    "Terms that have similar meanings tend to have similar values across the same columns. The same applies for documents across rows."
   ]
  },
  {
   "cell_type": "code",
   "execution_count": 108,
   "metadata": {},
   "outputs": [
    {
     "name": "stdout",
     "output_type": "stream",
     "text": [
      "[58.79735866 51.38912695 37.29238703 34.97853623 34.77311675 33.09564297\n",
      " 32.64143815 32.57377559 31.5379204  31.24943091 30.66200111 30.25784823\n",
      " 29.47446833 29.35552253 28.63487448 28.49670816 28.13977974 27.95398917\n",
      " 27.46202986 27.08862678]\n"
     ]
    }
   ],
   "source": [
    "# print top-20 singular values \n",
    "diagonal_values = S[-1:-21:-1]\n",
    "print(diagonal_values)"
   ]
  },
  {
   "attachments": {},
   "cell_type": "markdown",
   "metadata": {},
   "source": [
    "## Exercise 4.5: Topic extraction"
   ]
  },
  {
   "cell_type": "code",
   "execution_count": 120,
   "metadata": {
    "scrolled": true
   },
   "outputs": [
    {
     "name": "stdout",
     "output_type": "stream",
     "text": [
      "topic 1:\n",
      "terms:  ['selection design', 'engineering handbook', 'mar', 'analysis requirement', 'assignment team', 'concept selection', 'nasa', 'cycle process', 'weck', 'learning rule']\n",
      "documents:  ['MGT-690(A)', 'MGT-690(B)', 'BIO-699(n)', 'AR-202(c)', 'CH-404', 'CS-411', 'CH-617', 'MICRO-600', 'EE-712', 'BIO-382']\n",
      "topic 2:\n",
      "terms:  ['guidance professor', 'professor assistant', 'guidance', 'research semester', 'theme proposed', 'chosen theme', 'proposed web', 'projectpresent project', 'assistant content', 'semester guidance']\n",
      "documents:  ['CS-498', 'COM-507', 'CS-596', 'CH-491', 'MSE-490(b)', 'MSE-490(a)', 'MSE-490(c)', 'EE-491(c)', 'EE-491(b)', 'AR-522']\n",
      "topic 3:\n",
      "terms:  ['financial', 'valuation', 'pricing', 'risk', 'finance', 'market', 'stochastic', 'corporate', 'firm', 'capital']\n",
      "documents:  ['MGT-482', 'FIN-401', 'FIN-521', 'FIN-405', 'FIN-407', 'FIN-402', 'FIN-404', 'FIN-505', 'FIN-606', 'FIN-506']\n",
      "topic 4:\n",
      "terms:  ['sem', 'microscope', 'electron', 'scanning electron', 'microscopy', 'financial', 'intended researcher', 'intensive intended', 'scanning', 'intensive']\n",
      "documents:  ['MSE-636(a)', 'MSE-636(b)', 'MGT-482', 'MSE-619', 'FIN-401', 'MSE-652', 'CH-413', 'MSE-637(a)', 'MSE-637(b)', 'MSE-635']\n",
      "topic 5:\n",
      "terms:  ['sem', 'electron', 'microscope', 'financial', 'scanning electron', 'intended researcher', 'stochastic', 'fib', 'pricing', 'intensive intended']\n",
      "documents:  ['MSE-636(b)', 'MSE-636(a)', 'MSE-619', 'MGT-482', 'ENV-715', 'MSE-652', 'FIN-401', 'FIN-521', 'ENG-420', 'MSE-637(a)']\n",
      "topic 6:\n",
      "terms:  ['project', 'image', 'sem', 'signal', 'algorithm', 'linear', 'programming', 'data', 'atmospheric boundary', 'microscope']\n",
      "documents:  ['MSE-636(a)', 'MSE-636(b)', 'ENG-420', 'ENV-715', 'AR-402(w)', 'ENV-546', 'HUM-427(a)', 'ENG-366', 'HUM-403(b)', 'MATH-611']\n",
      "topic 7:\n",
      "terms:  ['atmospheric boundary', 'atmospheric', 'knowledge fluid', 'fluid', 'turbulent', 'boundary layer', 'mathematical description', 'fluid mechanic', 'boundary', 'description physical']\n",
      "documents:  ['ENV-715', 'ENG-420', 'MGT-482', 'FIN-401', 'BIO-487', 'CH-413', 'MSE-636(b)', 'MSE-636(a)', 'BIO-477', 'BIO-494']\n",
      "topic 8:\n",
      "terms:  ['cell', 'optical', 'protein', 'drug', 'spectroscopy', 'molecule', 'sensor', 'molecular', 'fluorescence', 'semiconductor']\n",
      "documents:  ['CH-413', 'BIOENG-445', 'CH-492', 'CH-448', 'BIO-443', 'CH-447', 'BIO-487', 'CH-415', 'MICRO-523', 'CH-443']\n",
      "topic 9:\n",
      "terms:  ['device', 'semiconductor', 'transistor', 'circuit', 'architectural', 'architecture', 'historical spatial', 'respecting historical', 'optical', 'modernity']\n",
      "documents:  ['AR-402(w)', 'PHYS-433', 'MICRO-432', 'AR-401(w)', 'EE-606', 'PHYS-434', 'MICRO-566', 'EE-535', 'PHYS-310', 'MGT-482']\n",
      "topic 10:\n",
      "terms:  ['alloy', 'retreat', 'solidification', 'linear', 'algorithm', 'optimization', 'series', 'probability', 'nucleation', 'participant']\n",
      "documents:  ['MSE-657', 'MSE-646', 'MSE-653', 'ChE-437', 'EE-612', 'ChE-311', 'MSE-636(b)', 'MSE-636(a)', 'MSE-651', 'BIO-634']\n"
     ]
    }
   ],
   "source": [
    "def get_top_k(array, k):\n",
    "    sorted_indices = np.argsort(array)[::-1]\n",
    "\n",
    "    # Get the top 10 indices and values\n",
    "    top_k_indices = sorted_indices[:k]\n",
    "    top_k_values = array[top_k_indices]\n",
    "\n",
    "    return top_k_indices, top_k_values\n",
    "\n",
    "num_topics = 10\n",
    "top_10 = {}\n",
    "# since singular values are arranged in ascending order we take last 10 topic rows/columns\n",
    "for topic in range(topics_count-1, topics_count - num_topics -1, -1):              \n",
    "    # Get the terms for the current topic\n",
    "    # With get_top find k terms that relate the most with the current topic\n",
    "    term_indices, topic_term_value = get_top_k(U[:, topic], num_topics)\n",
    "    terms = [id_to_term(i) for i in term_indices]\n",
    "\n",
    "    # Get the documents for the current topic\n",
    "    # With get_top find k courses that relate the most with the current topic\n",
    "    doc_indices, topic_doc_value = get_top_k(VT[topic, :], num_topics)\n",
    "    courses = [id_to_course(c) for c in doc_indices]             \n",
    "\n",
    "    top_10[topic] = {\"terms\": terms, \"courses\": courses}\n",
    "\n",
    "\n",
    "    print(\"topic {}:\".format(abs(topic-topics_count)))\n",
    "    print(\"terms: \", terms)\n",
    "    print(\"documents: \",courses)\n"
   ]
  },
  {
   "cell_type": "code",
   "execution_count": 116,
   "metadata": {},
   "outputs": [],
   "source": [
    "# Give a label to each topic\n",
    "# Load the data from the text file\n",
    "from utils import load_json\n",
    "courses_list = load_json('data/courses.txt')"
   ]
  },
  {
   "cell_type": "code",
   "execution_count": 121,
   "metadata": {},
   "outputs": [
    {
     "name": "stdout",
     "output_type": "stream",
     "text": [
      "Topic: 1\n",
      "MGT-690(A) :  Contact the EDMT administration for enrollment please\n",
      "MGT-690(B) :  Contact the EDMT Administration for enrollment please\n",
      "BIO-699(n) :  Training rotation\n",
      "Topic: 2\n",
      "CS-498 :  Individual research during the semester under the guidance of a professor or an assistant. Content Subject to be chosen among the themes proposed on the web site :   http://ic.epfl.ch/semester_projects_by_laboratory Learning Outcomes By the end of the course, the student must be able to: Organize a projectAssess / Evaluate one's progress through the course of the projectPresent a project Transversal skills Write a scientific or technical report.Write a literature review which assesses the state of the art. Assessment methods Written report and oral presentation\n",
      "COM-507 :  Individual research during the semester under the guidance of a professor or an assistant. Content Subject to be chosen among the themes proposed on the web site : http://ic.epfl.ch/systemes-communication-projet-labo-master Learning Outcomes By the end of the course, the student must be able to: Organize a projectAssess / Evaluate one's progress through the course of the projectPresent a project Teaching methods Individual and independant work, under the guidance of a professor or an assistant. Assessment methods Oral presentation and written report.\n",
      "CS-596 :  Individual research during the semester under the guidance of a professor or an assistant. Content Subject to be chosen among the themes proposed on the web site : http://ic.epfl.ch/semester_projects_by_laboratory Learning Prerequisites Required courses In case the project II has been achieved successfully, the Master students have the possibility to do an additional semester project, called optional project and worth 8 ECTS credits. Learning Outcomes By the end of the course, the student must be able to: Organize a projectAssess / Evaluate one's progress through the course of the projectPresent a project Transversal skills Write a scientific or technical report.Write a literature review which assesses the state of the art. Teaching methods Individual and independant work, under the guidance of a professor or an assistant. Assessment methods Oral presentation and written report.\n",
      "Topic: 3\n",
      "MGT-482 :  This course is intended to provide a market-oriented framework for analyzing the major of financial decisions made by corporations. Lectures and readings will provide an introduction to present value techniques, capital budgeting, asset valuation, the financial decisions of firms, and derivatives. Content 1. Introduction to finance2. Arbitrage, discounting, and the term structure of interest rates 3. Introduction to the valuation of bonds and stocks4. Risk and return5. Capital Budgeting6. Capital Structure Decisions7. Financial derivatives8. Option Valuation9. Introduction to Risk Management Keywords Corporate Finance, Valuation, Arbitrage Pricing, Option Pricing Theory, Risk Management Learning Prerequisites Required courses No prerequisite Recommended courses No prerequisite Important concepts to start the course No prerequisite Learning Outcomes By the end of the course, the student must be able to: Understand standard valuations models used in financial marketsUnderstand the trade-off between risk and returnDevelop an ability to make portfolio decisionsDevelop an ability to analyze and evaluate firms and investment projectsUnderstand the determinants of financing decisionsUnderstand derivatives markets and their benefits and costs Transversal skills Plan and carry out activities in a way which makes optimal use of available time and other resources.Use a work methodology appropriate to the task.Communicate effectively, being understood, including across different languages and cultures.Communicate effectively with professionals from other disciplines.Give feedback (critique) in an appropriate fashion.Evaluate one's own performance in the team, receive and respond appropriately to feedback.Keep appropriate documentation for group meetings.Negotiate effectively within the group.Resolve conflicts in ways that are productive for the task and the people concerned.Assess one's own level of skill acquisition, and plan their on-going learning goals.Use both general and domain specific IT resources and toolsAccess and evaluate appropriate sources of information.Collect data. Teaching methods Lectures, homework, exercises Assessment methods 50% Homework 50% Final exam Homework is open book. Final exam is closed-book. Supervision Office hours No Assistants Yes Forum No Resources Bibliography Berk and DeMarzo, Corporate Finance, Pearson 2007 Ressources en bibliothèque Corporate Finance / Berk Notes/Handbook Available on the Moodle site\n",
      "FIN-401 :  The course provides a market-oriented framework for analyzing the major types of financial decisions made by firms. It provides an introduction to present value techniques, capital budgeting, asset valuation, the operation and efficiency of financial markets, and other financial decisions of firms. Content 1. Introduction to finance 2. Arbitrage, discounting, and the term structure of interest rates 3. Introduction to the valuation of bonds and stocks 4. Risk and return 5. Capital Budgeting 6. Capital Structure Decisions 7. Financial derivatives 8. Risk management Keywords Corporate Finance, Valuation, Arbitrage Pricing, Risk Management Learning Prerequisites Required courses None Recommended courses None Learning Outcomes By the end of the course, the student must be able to: Explain standard valuations models used in financial marketsRecall the trade-off between risk and return and develop an ability to make portfolio decisionsDevelop an ability to analyze and evaluate firms and investment projectsState the determinants of financing decisions for firms and investment projectsDescribe derivatives markets and their benefits and costs Transversal skills Plan and carry out activities in a way which makes optimal use of available time and other resources.Assess one's own level of skill acquisition, and plan their on-going learning goals.Access and evaluate appropriate sources of information. Teaching methods Lectures, homework, exercises, case studies Expected student activities attendance at lectures, handing in homeworks, completing case studies, class participation Assessment methods 35% Homework25% Midterm exam40% Final exam Homework is open book. Final exam is closed-book. Supervision Office hours Yes Assistants Yes Forum No Resources Bibliography Berk and DeMarzo, Corporate Finance, Pearson, 2007. Ressources en bibliothèque Corporate Finance / Berk Notes/Handbook Lecture notes for each class will be available via moodle.\n",
      "FIN-521 :  The course presents some advanced topics in financial econometrics. Content Nonparametric option pricing; high frequency data; liquidity in foreign exchange markets; variance swaps Keywords High frequency data - liquidity - variance swaps Learning Prerequisites Required courses Derivatives Econometrics Financial econometrics Introduction to finance Recommended courses Time series Important concepts to start the course Risk-neutral pricing Derivatives contracts Computer coding and handling of real data Learning Outcomes By the end of the course, the student must be able to: Use econometric theory to make inference on stochastic volatility models like GARCH models.Implement semiparametric GARCH models for option pricing based on Monte Carlo simulation.Discuss and implement nonparametric option pricing models based for example on local linear smoothing of implied volatilities.Estimate advantages and disadvantages of parametric, semiparametric and nonparametric option pricing models.Describe the main stylized facts of high frequency data like market microstructure noise, bid-ask bouncing, and intraday patterns.Apply econometric models for high frequency data to estimate volatility, market microstructure noise, price impact and other liquidity measures.Describe popular trading strategies in the foreign exchange market like carry trade.Discuss the main features of volatility markets like variance swap markets.Formulate the valuation of variance swaps under general stochastic volatility models.Discuss the term structure of equity and variance risk premia.Conduct team-work and write an econometric report about stochastic volatility and option pricing models. Transversal skills Summarize an article or a technical report.Write a literature review which assesses the state of the art. Teaching methods Lectures Expected student activities Group homework Attendance at lectures (as covered material is advanced) Reading research articles Assessment methods 40% Homework 60% Final exam (close book) Supervision Office hours No Assistants No Forum No Others upon appointment\n",
      "Topic: 4\n",
      "MSE-636(a) :  This intensive course is intended for researchers who envisage to use scanning electron microscopy techniques for their research or who want to understand how to interpret SEM images and analytical results presented in scientific publications. Content This intensive course is intended for researchers who are potential new users of scanning electron microscopes. It will provide them with a basic understanding of the instruments, optics of SEM, the imaging modes, the associated analytical techniques EDS and EBSD, related theories of image formation. Demonstrations will be given on the microscopes.  2x Year Spring (b) and autumn (a) Keywords SEM, FIB, ESEM\n",
      "MSE-636(b) :  This intensive course is intended for researchers who envisage to use scanning electron microscopy techniques for their research or who want to understand how to interpret SEM images and analytical results presented in scientific publications. Content This intensive course is intended for researchers who are potential new users of scanning electron microscopes. It will provide them with a basic understanding of the instruments, optics of SEM, the imaging modes, the associated analytical techniques EDS and EBSD, related theories of image formation. Demonstrations will be given on the microscopes.  2x Year Spring (b) and autumn (a) Keywords SEM, FIB, ESEM\n",
      "MGT-482 :  This course is intended to provide a market-oriented framework for analyzing the major of financial decisions made by corporations. Lectures and readings will provide an introduction to present value techniques, capital budgeting, asset valuation, the financial decisions of firms, and derivatives. Content 1. Introduction to finance2. Arbitrage, discounting, and the term structure of interest rates 3. Introduction to the valuation of bonds and stocks4. Risk and return5. Capital Budgeting6. Capital Structure Decisions7. Financial derivatives8. Option Valuation9. Introduction to Risk Management Keywords Corporate Finance, Valuation, Arbitrage Pricing, Option Pricing Theory, Risk Management Learning Prerequisites Required courses No prerequisite Recommended courses No prerequisite Important concepts to start the course No prerequisite Learning Outcomes By the end of the course, the student must be able to: Understand standard valuations models used in financial marketsUnderstand the trade-off between risk and returnDevelop an ability to make portfolio decisionsDevelop an ability to analyze and evaluate firms and investment projectsUnderstand the determinants of financing decisionsUnderstand derivatives markets and their benefits and costs Transversal skills Plan and carry out activities in a way which makes optimal use of available time and other resources.Use a work methodology appropriate to the task.Communicate effectively, being understood, including across different languages and cultures.Communicate effectively with professionals from other disciplines.Give feedback (critique) in an appropriate fashion.Evaluate one's own performance in the team, receive and respond appropriately to feedback.Keep appropriate documentation for group meetings.Negotiate effectively within the group.Resolve conflicts in ways that are productive for the task and the people concerned.Assess one's own level of skill acquisition, and plan their on-going learning goals.Use both general and domain specific IT resources and toolsAccess and evaluate appropriate sources of information.Collect data. Teaching methods Lectures, homework, exercises Assessment methods 50% Homework 50% Final exam Homework is open book. Final exam is closed-book. Supervision Office hours No Assistants Yes Forum No Resources Bibliography Berk and DeMarzo, Corporate Finance, Pearson 2007 Ressources en bibliothèque Corporate Finance / Berk Notes/Handbook Available on the Moodle site\n",
      "Topic: 5\n",
      "MSE-636(b) :  This intensive course is intended for researchers who envisage to use scanning electron microscopy techniques for their research or who want to understand how to interpret SEM images and analytical results presented in scientific publications. Content This intensive course is intended for researchers who are potential new users of scanning electron microscopes. It will provide them with a basic understanding of the instruments, optics of SEM, the imaging modes, the associated analytical techniques EDS and EBSD, related theories of image formation. Demonstrations will be given on the microscopes.  2x Year Spring (b) and autumn (a) Keywords SEM, FIB, ESEM\n",
      "MSE-636(a) :  This intensive course is intended for researchers who envisage to use scanning electron microscopy techniques for their research or who want to understand how to interpret SEM images and analytical results presented in scientific publications. Content This intensive course is intended for researchers who are potential new users of scanning electron microscopes. It will provide them with a basic understanding of the instruments, optics of SEM, the imaging modes, the associated analytical techniques EDS and EBSD, related theories of image formation. Demonstrations will be given on the microscopes.  2x Year Spring (b) and autumn (a) Keywords SEM, FIB, ESEM\n",
      "MSE-619 :  Nanofabrication with focused charged particle beams (SEM, FIB) and their applications such as lithography, gas assisted deposition / etching, and milling are discussed and the limitations of these processes are developed based on the acquired understanding of the interactions. Content Introduction to Scanning Electron / Ion Microscopes: SEM, Ga-FIB, He-FIB, AuSi-FIBElectron / Ion interaction with solids: concepts and simulationsAnalysis with focused electron and ion beams: EDX, EBIC, EBSD, tomographyNanofabrication with FIB and FEB: milling, deposition, etching, lithographyNovel Add-Ons for Nanomanipulation and Nanoanalysis inside electron microscopes: 4-point electrical measurements, positioning systems for nanostructures, magnetic bead detection, mechanical measurements: tensile, bending, and compressive loading of nanostructures, 3D topography with in-situ atomic force microscopy, chemical depth profiling by combined FIB-mass spectroscopy. Live demonstrations: Add-ons, SEM, Dual Beam. Note Limited to 16 students Keywords FIB, FEB, nanofabrication, integrated setups for in-situ measurements (chemical, mechanical, structural, electronical) of nanostructures and their in-situ synthesis (gas injection)\n",
      "Topic: 6\n",
      "MSE-636(a) :  This intensive course is intended for researchers who envisage to use scanning electron microscopy techniques for their research or who want to understand how to interpret SEM images and analytical results presented in scientific publications. Content This intensive course is intended for researchers who are potential new users of scanning electron microscopes. It will provide them with a basic understanding of the instruments, optics of SEM, the imaging modes, the associated analytical techniques EDS and EBSD, related theories of image formation. Demonstrations will be given on the microscopes.  2x Year Spring (b) and autumn (a) Keywords SEM, FIB, ESEM\n",
      "MSE-636(b) :  This intensive course is intended for researchers who envisage to use scanning electron microscopy techniques for their research or who want to understand how to interpret SEM images and analytical results presented in scientific publications. Content This intensive course is intended for researchers who are potential new users of scanning electron microscopes. It will provide them with a basic understanding of the instruments, optics of SEM, the imaging modes, the associated analytical techniques EDS and EBSD, related theories of image formation. Demonstrations will be given on the microscopes.  2x Year Spring (b) and autumn (a) Keywords SEM, FIB, ESEM\n",
      "ENG-420 :  The course aims at introducing basic physical aspects of molecular and turbulent diffusion, as well as of dispersion processes, their mathematical modeling, solutions and related environmental applications Content - Point source pollution- Introduction to turbulence- Jets and Plumes- Dispersion- Mixing in lakes and in reservoirs- Atmospheric boundary layer- Computational fluid dynamics Keywords Environmental diffusion, advection, dispersion, mixing, pollution, rivers, atmospheric boundary layer Learning Prerequisites Recommended courses Basic knowledge of fluid mechanics Learning Outcomes By the end of the course, the student must be able to: Interpret the physics of transport processesElaborate linear modelsSolve linear modelsDevelop numerical transport models with FLUENT Transversal skills Use a work methodology appropriate to the task.Take feedback (critique) and respond in an appropriate manner.Write a scientific or technical report. Teaching methods Lectures, exercises and projects\n",
      "Topic: 7\n",
      "ENV-715 :  This course covers the fundamental concepts, mathematical descriptions and physical interpretations of turbulent transport and energy exchange in the atmospheric boundary layer. The course includes eight chapters in total and requires some basic knowledge of fluid mechanics as the prerequisite.\n",
      "ENG-420 :  The course aims at introducing basic physical aspects of molecular and turbulent diffusion, as well as of dispersion processes, their mathematical modeling, solutions and related environmental applications Content - Point source pollution- Introduction to turbulence- Jets and Plumes- Dispersion- Mixing in lakes and in reservoirs- Atmospheric boundary layer- Computational fluid dynamics Keywords Environmental diffusion, advection, dispersion, mixing, pollution, rivers, atmospheric boundary layer Learning Prerequisites Recommended courses Basic knowledge of fluid mechanics Learning Outcomes By the end of the course, the student must be able to: Interpret the physics of transport processesElaborate linear modelsSolve linear modelsDevelop numerical transport models with FLUENT Transversal skills Use a work methodology appropriate to the task.Take feedback (critique) and respond in an appropriate manner.Write a scientific or technical report. Teaching methods Lectures, exercises and projects\n",
      "MGT-482 :  This course is intended to provide a market-oriented framework for analyzing the major of financial decisions made by corporations. Lectures and readings will provide an introduction to present value techniques, capital budgeting, asset valuation, the financial decisions of firms, and derivatives. Content 1. Introduction to finance2. Arbitrage, discounting, and the term structure of interest rates 3. Introduction to the valuation of bonds and stocks4. Risk and return5. Capital Budgeting6. Capital Structure Decisions7. Financial derivatives8. Option Valuation9. Introduction to Risk Management Keywords Corporate Finance, Valuation, Arbitrage Pricing, Option Pricing Theory, Risk Management Learning Prerequisites Required courses No prerequisite Recommended courses No prerequisite Important concepts to start the course No prerequisite Learning Outcomes By the end of the course, the student must be able to: Understand standard valuations models used in financial marketsUnderstand the trade-off between risk and returnDevelop an ability to make portfolio decisionsDevelop an ability to analyze and evaluate firms and investment projectsUnderstand the determinants of financing decisionsUnderstand derivatives markets and their benefits and costs Transversal skills Plan and carry out activities in a way which makes optimal use of available time and other resources.Use a work methodology appropriate to the task.Communicate effectively, being understood, including across different languages and cultures.Communicate effectively with professionals from other disciplines.Give feedback (critique) in an appropriate fashion.Evaluate one's own performance in the team, receive and respond appropriately to feedback.Keep appropriate documentation for group meetings.Negotiate effectively within the group.Resolve conflicts in ways that are productive for the task and the people concerned.Assess one's own level of skill acquisition, and plan their on-going learning goals.Use both general and domain specific IT resources and toolsAccess and evaluate appropriate sources of information.Collect data. Teaching methods Lectures, homework, exercises Assessment methods 50% Homework 50% Final exam Homework is open book. Final exam is closed-book. Supervision Office hours No Assistants Yes Forum No Resources Bibliography Berk and DeMarzo, Corporate Finance, Pearson 2007 Ressources en bibliothèque Corporate Finance / Berk Notes/Handbook Available on the Moodle site\n",
      "Topic: 8\n",
      "CH-413 :  This course concerns modern bioanalytical techniques to investigate biomolecules both in vitro and in vivo, including recent methods to image, track and manipulate single molecules. We cover the basic principles of the respective methods and discuss examples from the current scientific literature. Content Techniques to monitor the function of single biomolecules and complexes single molecule fluorescence spectroscopy (FRET, confocal and total internal reflection fluorescence microscopy - Force spectroscopy to monitor function of single proteins and cells - Microscopy beyond the diffraction limit: Super-resolution microscopy   Surface sensors to elucidate and quantify molecular interactions: - Immobilizing biopolymers on surfaces - Optical & electrical detection techniques   Development and application of microfluidic and nanofluidic sensor devices: - Miniaturisation of analytical techniques: lab on a chip - Chemical and biochemical sensors - Next generation DNA sequencing approaches   Engineered biomolecules to manipulate cells or as drug delivery vehicles - Nano-containers for drug delivery vectors - DNA based self-assembly and nanofabrication of complex structures Keywords Nanobiotechnology, biophysics, sensors, single-molecule, fluroescence, FRET, drug delivery, DNA origami, lab-on-a-chip, super-resolution microscopy, force spectroscopy Learning Prerequisites Required courses Biochemistry I and II Molecular and Cellular Biophysics I and II Important concepts to start the course Biomolecular absorption and fluroescence General biochemistry Learning Outcomes By the end of the course, the student must be able to: Explain the fundamental principles of nano-biotechnological and biophysical methodsDistinguish the advantages and disadvantages of the respective biophysical and nano-biotechnological methodsDiscuss the limits of nanobiotechnological methodsChoose appropriate methodologies to tackle a specific biological problemAnalyze the current scientific literature on nanobiotechnological applicationsDesign approaches to robustly sense and measure specific biomolecules using integrated devicesPropose strategies to image and track molecules in cells and study their interactionsApply concepts of nanoparticles and self-assembly to design drug delivery methodologies Transversal skills Make an oral presentation.Write a literature review which assesses the state of the art.Use a work methodology appropriate to the task.Communicate effectively with professionals from other disciplines. Teaching methods Ex cathedra, presentations by students and paper discussions Expected student activities Discussion of recent literature in the form of presentations Assessment methods Written exam Supervision Assistants Yes Others Moodle\n",
      "BIOENG-445 :  This course addresses the principles governing the interactions between light and biological tissue, their optical properties and basic concepts of radiometry. The most important and illustrative diagnostic and therapeutic applications of light in medicine and photobiology will also be described Content Introduction Brief historyIntroduction to general optics and tissue opticsRadiometry and PhotometryLight dosimetryLight-tissues interactionsIntroduction to molecular spectroscopyDyes and luminophoresPrinciples and techniquesAbsorption, fluorescence, vibrational and Raman spectroscopies and imaging.Time-resolved spectroscopy and imaging.Light sources, detectors and optical systems.ApplicationsAnalytical techniques, oxymetry, optical biosensors, Photodetection of early cancers with exogenous and endogenous dyes, Angiography, Phototherapy and Photodynamic therapy, optical coherence tomography. Keywords Photomedicine, biomedical optics, tissue optics, light-tissue interactions, photodiagnosis, phototherapy, light dosimetry, dyes, photosensitizers. Learning Prerequisites Important concepts to start the course Basic background in biology, chemistry and optics. Learning Outcomes By the end of the course, the student must be able to: Design simple systems used for phototherapy and photodiagnosis.Characterize the spectral design of apparatus used in biomedical optics.Compute the light dose in biological tissues.Identify the optical components to develop an apparatus used in phototherapy.Explain the working principles of apparatus used in biomedical optics.Model the propagation of light in biological tissues.Quantify the light dose in phototherapy.Interpret data obtained or published in photomedicine. Transversal skills Access and evaluate appropriate sources of information.Collect data.Make an oral presentation.Summarize an article or a technical report.Communicate effectively with professionals from other disciplines. Teaching methods Lectures, Exercises, recent literature review papers, classroom discussion oral presentation. Expected student activities Exercises, lecture of review papers, classroom discussion oral presentation. Assessment methods Oral exam (1/2) presentation (1/4) exercices (1/4). Supervision Office hours Yes Assistants Yes Forum No Others Lecturer: Thursday, 16:00 - 18:00. Teaching assistant: Thursday, 14:00 - 18:00   Resources Bibliography - Optical-Thermal Response of Laser Irradiated Tissue, A.J. Welch & M.J.C. van Gemert (Plenum, 1995). - Principles of Fluorescence Spectroscopy, J.R. Lakowicz (Kluwer, 1999). - Optics, E. Hecht (Addison Wesley, 2000). - Handbook of Photomedicine, M. Hamblin & Y.-Y. Huang (CRC Press, 2013). - Handbook of Biomedical Fluorescence, M.-A. Mycek & B. W. Pogue (Dekker, 2003). - Photosensitisers in Biomedicine, M. Wainwright (Wiley-Blackwell, 2009). - Quantitative Biomedical Optics, I. Bigio & S. Fantini (Cambridge Univ. Press, 2016) Ressources en bibliothèque Optics / HechtOptics / HechtOptics / HechtHandbook of Photomedicine / Hamblin Handbook of Biomedical Fluorescence / MycekPrinciples of Fluorescence Spectroscopy / LakowiczOptical-Thermal Response of Laser Irradiated Tissue / Welch Notes/Handbook Slides available on Moodle. Websites http://lcom.epfl.ch/wagniereshttp://people.epfl.ch/georges.wagnieres?lang=en&cvlang=enhttp://www.opticsinfobase.org/vjbo/virtual_issue.cfmhttp://www.photobiology.info Moodle Link http://moodle.epfl.ch/course/view.php?id=1291\n",
      "CH-492 :  Interdisciplinary Laboratory Projects - ISIC Content Projects: - Development of peptide macrocycle therapeutics - Carbonic anhydrase: expression & purification; enzymatic esterase assays, CO2 hydration ' computational studies - How '-Conjugation Patterns Control the Conductance of the Single Molecule Junctions Laboratory for Computational Molecular Design Junction Conductance. - Electrochemical CO2 reduction on nanostructured surfaces in a flow cell - CO2 binding on surfaces - CO2 absorption from air - CO2 binding in complex nanostructures - Recycling of Dye-sensitized Solar Cells - Labelling Strategies Using Alkynyl Benziodoxolone Reagents for Single Molecule Spectroscopy - Opto-electronic and transient optical characterisation of water splitting photoanodes based on BBL (BBL: poly[benzimidazobenzophenanthroline]) - Hydrogen storage cycle: CO2 hydrogenation and formic acid decomposition - Electrochemistry of novel counter electrode materials and novel redox mediators for dye-sensitized solar cells Learning Prerequisites Required courses inorganic chemistry organic chemistry physical chemistry biochemistry Recommended courses Learning Outcomes By the end of the course, the student must be able to: development and testing of new CE materials based on metallic substrates.Computational methodsElaborate Photochemistry and PhotophysicsReason Solar energy conversion priciples Teaching methods Theory, and experimental techniques. Expected student activities Literature search, experimental methods, learning new concepts, writing reports and presentation Assessment methods 50% research work, 30% writing report, 20 % oral presentation\n",
      "Topic: 9\n",
      "AR-402(w) :  Intervention to one of two iconic architectural heritage sites of American modernity, respecting its historical, spatial and physical components, and providing an adequate response to the economic, cultural and social issues.\n",
      "PHYS-433 :  Series of lectures encompassing the fundamentals of semiconductors and the description of the main microelectronic devices built from semiconductors going from the p-n junction to the MOSFETs, which are at the heart of the CMOS-technology with an emphasis on downscaling issues. Content 1. Electronic properties of semiconductors - Crystalline structures and energy band diagrams - Impurities and doping - Carrier statistics in equilibrium and out-of-equilibrium - Electron transport in weak and strong fields - Generation and recombination processes 2. Theory of junctions and interfaces - p-n and metal-semiconductor junctions - Oxide-semiconductor and heterojunction interfaces - Principles of bipolar transistor operation 3. Field effect devices - MESFET, MOSFET and HEMT transistors - Downscaling principles - Submicron devices Learning Prerequisites Recommended courses Introduction Solid State Physics Learning Outcomes By the end of the course, the student must be able to: ArgueContextualiseSketchSynthesizeGeneralizeStructureProposeAssess / Evaluate Transversal skills Use a work methodology appropriate to the task.Plan and carry out activities in a way which makes optimal use of available time and other resources.Take feedback (critique) and respond in an appropriate manner.Communicate effectively with professionals from other disciplines. Teaching methods Ex cathedra with exercises Expected student activities Read the bibliographical ressources in order to fully integrate and properly use the physical concepts seen in the lectures and the exercices Be able to generalize the above-mentioned concepts to a wide variety of systems/devices Assessment methods oral exam (100%)\n",
      "MICRO-432 :  Analysis of the relationship between the structure of the main microelectronic devices and their electrical characteristics and explanation of the role and behavior of the systems studied in an integrated circuit. Evolution of technology and microelectronic components. Content Summary of semiconductor physics: Energy band diagrams, drift and diffusion currents, mobility, temperature effects. MOS transistor advanced topics: Weak inversion, down scaling, high electric field, bipolar transistor mode of operation. Compound semiconductors, hetero-junctions and devices: Equilibrium, current-voltage characteristics, capacitance; FETs, HEMT, heterojonction bipolar transistor, electrical models. Bipolar junction transistors: scaling down, ballistic transport, high frequency structures. Noise in integrated circuits: thermal noise, shot noise, generation-recombination noise, 1/f noise and noise in circuits. Parasitic and limiting effects in devices and circuits: Parasitic resistances, capacitances and inductances, leakage currents, hot carrier effects, breakdown. CMOS digital and analog integrated circuits: Principal building blocks and functions; Example: integrated Hall magnetic field sensors. Memories: Working principles and structures of ROM, PROM, EPROM, DRAM, SRAM, FLASH. Yield and reliability: Defect density, relation with design rules, yield statistics; Reliability, failure rate, failure mechanisms due to high electric field effects, electro-migration, heat dissipation, and packaging stress. Design of integrated circuits: Project outline, schematic, layout, design rules, numerical modelling and simulation. Integrated sensor microsystem: Example: Integrated optical detector. Current trends in microelectronics: State of the art and scaling down. Keywords Semiconductors, silicium, III-V compounds, GAAs, diode, bipolar transistor, MOS transistor, HEMT, CMOS, Memories, ROM, RAM, Flash, reliability, yield, design, integrated circuit, IC, schematic, layout, design, model, simulation. Learning Prerequisites Required courses Composants semiconducteurs MICRO-312 Recommended courses Composants semiconducteurs MICRO-312 Important concepts to start the course Energy band diagram, semiconductor device modellisation Learning Outcomes By the end of the course, the student must be able to: Develop electronic properties of devices and circuits.Explain basic microelectronic devices such aas FET, BJT, CMOS, Memories.Discuss main electronic circuits, including digital and analogue components.Formulate fundamental equations of the mains components and circuits.Model microelectronics devices.Illustrate design tools for intergrated circuits Transversal skills Access and evaluate appropriate sources of information. Teaching methods Ex-cathedra course with exercises. Expected student activities Attend to the lectures. Exercises solved with personal work. Associated thinking for every topic. Assessment methods 20% exercises 80% oral examination (2 questions) Supervision Office hours No Assistants Yes Forum No Resources Bibliography Notes polycopiées :1. S.M. Sze: \"Semiconductor Devices\", J. Wiley & Sons, 20022. S.M. Sze, Kwok K. Ng:  \"Physics of semiconductor devices\", 3rd Edition, J. Wiley& Sons, 20073. H. Mathieu, H. Fanet: \"Physique des semi-conducteurs et des composants électroniques\", 6e édition, Dunod, Paris, 20094. R. Jacob Baker: \"CMOS, Circuit Design, Layout and Simulation\", 3rd Edition, Wiley, 20105. H. Veendrick: \"Deep-submicron CMOS ICs\", Kluwer, 2000 Ressources en bibliothèque Semiconductor Devices / SzePhysique des semi-conducteurs / MathieuCMOS / Baker Deep-submicron CMOS ICs / VeendrickPhysics of semiconductor devices / Sze Notes/Handbook Distributed handsout at each lecture Moodle Link http://moodle.epfl.ch/enrol/index.php?id=8261\n",
      "Topic: 10\n",
      "MSE-657 :  This course is designed to cover a series of important scientific aspects related to the field of additive manufacturing of metals and alloys and to provide an in-depth review of corresponding fundamentals. It features 9 modules consisting of presentations given by lecturers and the participants. Content Powders and Additive Manufacturing Laser/e-beam - material interactions Atomistic modelling of solidification in out-of-equilibrium conditions Fundamentals of rapid solidification Optimization of alloys for AM In situ experiments with Xrays and neutrons at large facilities Post-treatments, microstructure evolutions and properties EBM processing and contrast with the SLM approach Important aspects to be considered in industrial applications   The course is organised as a 5 day retreat to allow for extensive informal interactions. Keywords Additive manufactuing, metals, atomistic modelling, rapid solidification, alloys for additive manufacturing, in situ experiments, Laser/e-beam - material interactions Atomistic modelling of solidification in out-of-equilibrium conditions Fundamentals of rapid solidification Optimization of alloys for AM In situ experiments with Xrays and neutrons at large facilities Post-treatments, microstructure evolutions and properties EBM processing and contrast with the SLM approach Important aspects to be considered in industrial applications   The course is organised as a 5 day retreat to allow for extensive informal interactions. Learning Prerequisites Required courses Participants should be educated in materials science and engineering, physics, mechanical engineering or physical chemistry to benefit the most from this course. Assessment methods Oral presentation (prepared based upon a series of publications provided by the lecturers)\n",
      "MSE-646 :  This course is designed to cover a series of important scientific aspects of metal science and to provide an in-depth review of their corresponding fundamentals. It is organised as a retreat over one week, with 9 modules consisting of presentations given by lecturers and the participants. Content Nucleation of solids from the liquid phase X-ray diffraction during deformation of metals Normal and abnormal grain growth in thin films Failure analysis by microscopy methods Solute Strengthening in fcc Metals Interface thermal conductance Recrystallization, grain structures and mechanical behaviour Fe-based shape memory alloys ' Design, properties and applications Important aspects to be considered in industrial applications   The course is organised as a 5 day retreat to allow for extensive informal interactions. Note Please register also with CCMX Keywords nucleation, growth, alloys, thin film, texture, dislocations, yield stress, interface thermal conductance, recrystallization, phase transformation Learning Prerequisites Required courses Participants should be educated in materials science and engineering, physics, mechanical engineering or physical chemistry to benefit the most from this course. Assessment methods Oral presentation (prepared based upon a series of publications provided by the lecturers\n",
      "MSE-653 :  The basics behind precipitation of particles in theory and in practice will be introduced. Fundamental concepts of supersaturation, nucleation, growth and aggregation will be discussed. Some basic methods used for inorganic powder and particles characterisation will also be briefly introduced. Content ' Precipitation basics ' supersaturation, nucleation, growth and aggregation ' Powder characterisation ' particle size, surface area, morphology (microscopy), X-ray powder diffraction, zeta potential and thermogravimetric analysis ' Precipitation in practice ' reactor engineering ' from batch to continuous reactors ' 'Sol-gel' routes in both aqueous and non-aqueous environments and polyol routes ' Modelling ' solution thermodynamics, kinetics (population balance), aggregation, self-assembly ' Case studies ' Superparamagnetic iron oxides, towards Good Manufacturing Practice (GMP) for biomedical applications Please note that while the theory presented in this course applies to many types of materials, the practical examples concentrate on inorganic materials. Also due to limited time only a brief overview of the theory can be given although key references for more advanced analysis are provided throughout. Note This course is open to participants with a basic background in materials science, chemistry and physics. It is mandatory to register on the CCMX website for this course. Keywords precipitation; inorganic powders; supersaturation; nucleation mechanism; growth mechanism; aggregation mechanism; characterisation; reactors; sol-gel routes; aqueous; non-aqueous; thermodynamic modelling, kinetic modelling\n"
     ]
    }
   ],
   "source": [
    "# we print the course descriptions of the top 3 matching courses for each topic to help us find a label\n",
    "for t,v in top_10.items():  \n",
    "    print(\"Topic: {}\".format(abs(t-topics_count)))\n",
    "    for id in v[\"courses\"][:3]:\n",
    "        for item in courses_list:\n",
    "            if item['courseId'] == id:\n",
    "                print(id, \": \", item['description'])\n",
    "                break\n"
   ]
  },
  {
   "attachments": {},
   "cell_type": "markdown",
   "metadata": {},
   "source": [
    "Given the terms and course descriptions we name the topics the following way:\n",
    "- Topic 1: *technology management and engineering*\n",
    "- Topic 2: *academic support*\n",
    "- Topic 3: *finance*\n",
    "- Topic 4: *scientific research in microsopy and finance*\n",
    "- Topic 5: *SEM Training and Analysis*\n",
    "- Topic 7: *Atmosphere and Fluid Dynamics*\n",
    "- Topic 8: *Biophotonics and Biochemical Sensing*\n",
    "- Topic 9: *Electronic Devices and Architectures*\n",
    "- Topic 10: *Materials Science and Optimization*\n"
   ]
  },
  {
   "attachments": {},
   "cell_type": "markdown",
   "metadata": {},
   "source": [
    "## Exercise 4.6: Document similarity search in concept-space"
   ]
  },
  {
   "cell_type": "code",
   "execution_count": 153,
   "metadata": {},
   "outputs": [],
   "source": [
    "def sim(term_v, document_v, S):\n",
    "    numerator = np.dot(term_v, np.dot(S, document_v))\n",
    "    denominator = np.linalg.norm(term_v) * np.linalg.norm(document_v)\n",
    "    return numerator / denominator\n",
    "\n",
    "def get_combinations_of_term(term):\n",
    "    words = term.split()\n",
    "    # Generate all combinations of the words\n",
    "    combinations_list = []\n",
    "    for r in range(1, len(words) + 1):\n",
    "        combinations_list.extend(combinations(words, r))\n",
    "\n",
    "    # Convert the combinations back to strings\n",
    "    combinations_strings = [' '.join(comb) for comb in combinations_list]\n",
    "    return combinations_strings\n",
    "\n",
    "# compute similarity for term-course\n",
    "def sim_term_doc(term, courseId, S):\n",
    "    # for term consisting of mutiple words we have mutliple entries in the term vector\n",
    "    terms = get_combinations_of_term(term)\n",
    "    term_v = np.zeros(topics_count)\n",
    "    # for each possible term in the given term get vector in U and add up so we have an entry for each possible term\n",
    "    for t in terms:\n",
    "        try:\n",
    "            index_term = terms_overview.index(t)\n",
    "        except ValueError:\n",
    "            #print(\"The term {} is not in the term list.\".format(term))\n",
    "            None\n",
    "        term_v = term_v + U[index_term, :]\n",
    "    # normalize term_v\n",
    "    term_v = term_v / np.sum(term_v)\n",
    "\n",
    "    # get course vector\n",
    "    document_v = VT[:, courseId]\n",
    "    S = np.diag(S)\n",
    "    # calculate similarity between term and course vector\n",
    "    return sim(term_v, document_v, S)\n",
    "    \n",
    "\n",
    "def search(term, k=5):\n",
    "    similarities = {}\n",
    "    # iterate over all courses\n",
    "    for i in range(len(courses_overview)):\n",
    "        course_Id = id_to_course(i)\n",
    "        # store similarity between course and given term\n",
    "        similarities[course_Id] = sim_term_doc(term, i, S)\n",
    "    # extract k courses accroding to highest similarity values\n",
    "    sorted_items = sorted(similarities.items(), key=lambda x: x[1], reverse=True)\n",
    "    return sorted_items[:k]\n"
   ]
  },
  {
   "cell_type": "code",
   "execution_count": 156,
   "metadata": {},
   "outputs": [
    {
     "name": "stdout",
     "output_type": "stream",
     "text": [
      "[('MATH-332', 14.185123393888412), ('MGT-484', 13.844382361987355), ('EE-605', 12.017348257235897), ('COM-516', 11.450630375322035), ('EE-516', 5.796697449279108)]\n"
     ]
    }
   ],
   "source": [
    "markov_chain_res = search(\"markov chains\")\n",
    "print(markov_chain_res)"
   ]
  },
  {
   "cell_type": "code",
   "execution_count": 159,
   "metadata": {},
   "outputs": [
    {
     "name": "stdout",
     "output_type": "stream",
     "text": [
      "Topic: MATH-332\n",
      "MATH-332 :  Applied stochastic processes\n",
      "Topic: MGT-484\n",
      "MGT-484 :  Applied probability & stochastic processes\n",
      "Topic: EE-605\n",
      "EE-605 :  Statistical Sequence Processing\n",
      "Topic: COM-516\n",
      "COM-516 :  Markov chains and algorithmic applications\n",
      "Topic: EE-516\n",
      "EE-516 :  Data analysis and model classification\n"
     ]
    }
   ],
   "source": [
    "# we print the course names of the prevoius result\n",
    "for id,_ in markov_chain_res:  \n",
    "    print(\"Topic: {}\".format(id))\n",
    "    for item in courses_list:\n",
    "        if item['courseId'] == id:\n",
    "            print(id, \": \", item['name'])\n",
    "            break"
   ]
  },
  {
   "cell_type": "code",
   "execution_count": 139,
   "metadata": {},
   "outputs": [
    {
     "name": "stdout",
     "output_type": "stream",
     "text": [
      "[('EE-727', 18.27613129768606), ('EE-593', 14.097471772548198), ('HUM-432(a)', 6.259373092283942), ('COM-308', 5.636709528854571), ('EE-552', 5.042800555239625)]\n"
     ]
    }
   ],
   "source": [
    "facebook_res = search(\"facebook\")\n",
    "print(facebook_res)"
   ]
  },
  {
   "cell_type": "code",
   "execution_count": 161,
   "metadata": {},
   "outputs": [
    {
     "name": "stdout",
     "output_type": "stream",
     "text": [
      "Topic: EE-727\n",
      "EE-727 :  Computational Social Media\n",
      "Topic: EE-593\n",
      "EE-593 :  Social media\n",
      "Topic: HUM-432(a)\n",
      "HUM-432(a) :  How people learn I\n",
      "Topic: COM-308\n",
      "COM-308 :  Internet analytics\n",
      "Topic: EE-552\n",
      "EE-552 :  Media security\n"
     ]
    }
   ],
   "source": [
    "# we print the course names of the prevoius result\n",
    "for id,_ in facebook_res:  \n",
    "    print(\"Topic: {}\".format(id))\n",
    "    for item in courses_list:\n",
    "        if item['courseId'] == id:\n",
    "            print(id, \": \", item['name'])\n",
    "            break"
   ]
  },
  {
   "cell_type": "code",
   "execution_count": 132,
   "metadata": {},
   "outputs": [],
   "source": [
    "# compare with previous section"
   ]
  },
  {
   "attachments": {},
   "cell_type": "markdown",
   "metadata": {},
   "source": []
  },
  {
   "attachments": {},
   "cell_type": "markdown",
   "metadata": {},
   "source": [
    "## Exercise 4.7: Document-document similarity"
   ]
  },
  {
   "cell_type": "code",
   "execution_count": 133,
   "metadata": {},
   "outputs": [],
   "source": [
    " # use cosine similiraty to calculate the similarity between the two document vectors\n",
    "def compute_similarity(doc_1_v, doc_2_v):\n",
    "    return cosine_similarity(doc_1_v.reshape(1,-1), doc_2_v.reshape(1,-1))\n",
    "\n",
    "    "
   ]
  },
  {
   "cell_type": "code",
   "execution_count": 134,
   "metadata": {},
   "outputs": [],
   "source": [
    "# implement search function that given a specified course computes the similarity to all other courses and choose top 5\n",
    "def compare_multiple_courses(course, k):\n",
    "    # get course id\n",
    "    idx = courses_overview.index(course)\n",
    "    # get column corresponding to specified course which gives use info about the course-topic associations\n",
    "    course_v = VT[:, idx]\n",
    "    similarities = {}\n",
    "    # iterate over all courses adn compute similarity to specified course\n",
    "    for i in range(len(courses_overview)):\n",
    "        # filter out specified course from the comparison courses\n",
    "        if idx != i:\n",
    "            course_id = id_to_course(i)\n",
    "            similarities[course_id] = compute_similarity(course_v, VT[:,i])\n",
    "    # sort items according to similarity\n",
    "    sorted_items = sorted(similarities.items(), key=lambda x: x[1], reverse=True)[:k]\n",
    "    return sorted_items\n"
   ]
  },
  {
   "cell_type": "code",
   "execution_count": 126,
   "metadata": {},
   "outputs": [
    {
     "name": "stdout",
     "output_type": "stream",
     "text": [
      "[('CS-423', array([[0.55880181]])), ('CS-401', array([[0.35891372]])), ('EE-727', array([[0.30841919]])), ('FIN-525', array([[0.28658085]])), ('CS-411', array([[0.2768962]]))]\n"
     ]
    }
   ],
   "source": [
    "# find top 5 most similar courses to \"COM-308\"\n",
    "res = compare_multiple_courses(\"COM-308\", 5)\n",
    "print(res)"
   ]
  },
  {
   "cell_type": "code",
   "execution_count": null,
   "metadata": {},
   "outputs": [],
   "source": []
  }
 ],
 "metadata": {
  "kernelspec": {
   "display_name": "Python 3",
   "language": "python",
   "name": "python3"
  },
  "language_info": {
   "codemirror_mode": {
    "name": "ipython",
    "version": 3
   },
   "file_extension": ".py",
   "mimetype": "text/x-python",
   "name": "python",
   "nbconvert_exporter": "python",
   "pygments_lexer": "ipython3",
   "version": "3.9.13"
  }
 },
 "nbformat": 4,
 "nbformat_minor": 2
}
