{
 "cells": [
  {
   "attachments": {},
   "cell_type": "markdown",
   "metadata": {},
   "source": [
    "# Networks: structure, evolution & processes\n",
    "**Internet Analytics - Lab 2**\n",
    "\n",
    "---\n",
    "\n",
    "**Group:** *J*\n",
    "\n",
    "**Names:**\n",
    "\n",
    "* *Ann-Kristin Bergmann*\n",
    "* *Nephele Aesopou*\n",
    "* *Ewa Miazga*\n",
    "* *Tan Mai Vu*\n",
    "\n",
    "---\n",
    "\n",
    "#### Instructions\n",
    "\n",
    "*This is a template for part 2 of the lab. Clearly write your answers, comments and interpretations in Markodown cells. Don't forget that you can add $\\LaTeX$ equations in these cells. Feel free to add or remove any cell.*\n",
    "\n",
    "*Please properly comment your code. Code readability will be considered for grading. To avoid long cells of codes in the notebook, you can also embed long python functions and classes in a separate module. Don’t forget to hand in your module if that is the case. In multiple exercises, you are required to come up with your own method to solve various problems. Be creative and clearly motivate and explain your methods. Creativity and clarity will be considered for grading.*"
   ]
  },
  {
   "cell_type": "markdown",
   "metadata": {},
   "source": [
    "---\n",
    "\n",
    "## 2.2 Network sampling\n",
    "\n",
    "#### Exercise 2.7: Random walk on the Facebook network"
   ]
  },
  {
   "cell_type": "code",
   "execution_count": 6,
   "metadata": {},
   "outputs": [],
   "source": [
    "# Import useful packages\n",
    "import requests\n",
    "import random\n",
    "import numpy as np\n",
    "import matplotlib.pyplot as plt"
   ]
  },
  {
   "cell_type": "code",
   "execution_count": 7,
   "metadata": {},
   "outputs": [
    {
     "name": "stdout",
     "output_type": "stream",
     "text": [
      "{'age': 13, 'friends': ['0065470d21f5f095cc304a048984387a', '634f079997d1329f9504e68870b33a9f', '6005f35032ccbc32c007209c9547a709', '08f3a0aaa93613f038951a575d280c7f', 'c55d0ff1eae9cddaf7210e9c71723525', '6a69bc21b975da2f1cdbbae760b39c07', 'a71e2294bc054a5da616e95b62e56b7e', '38b924a395511befa9220c1e8d1ef5c0', '4d99132299edfc28685448a96897747a', '1a89c02b4ff39b25f2f39fdfb6cbdbd2', 'd626f6fef9b29cb8dfad7d934a3cc54d', '34e697ef81b7b1bd545f98db5838e381', 'f0bdd1272e789cbda23d05793eaa6a34', 'f5729dfe71e7fba947dda59e5dcda6ec', '65577359f97d8439213634b003f3b861', '203dad9f8a7f800dc989c4c7b8de99b3', 'ddce98067818fc80b34d75d33c03ad5e', '0febaab403c822fb433e0a2342cdc4af', '872c6bf367b74a78571bd45fda388e64', '003efe2da6eec0b3be2633b06332e449', '87fbfee43e31e758b6bc53765e51357a', 'e4210f5867c8f1365b0cfbb59033c099', 'c5c3abb93877757fe8be1853faadb5ab', '3d56b1a1925d4b54ec6a196b81a0f7f4', '0b3be23e4183de00ae3ce94938f254a3', '5de130190b5765ec1df570346a7ddb44', '4f2b867da90cfc884b7c0cd516663dfa', '442f8d0f3703b16c30082daaa49215e8', '5b74daeb16a99b719250557ce9ef22b5', 'c88369ae6a94fbb8978ec64ee499cb34', '4f811f6d17f3f8d392dcecf842462a88', '908fd3852a52afbb483e9fcdd0a7856f', 'b493b5eff552b5b507af75b1e47c7a3e', '4fdc855da86462341ca9e420c814de62', 'a2111f95690cdcca9b14e3bbbb707501', '57c096742ba8673433615378128aba6f', 'e48de1541cd745f870f420eb89a70721', '00650446a9efec90bb33725d40579776', 'd000432c9e247cd2ceb585263a395979', '93b8783f77f0f6aa73d0c130bd19cb12', '36232404cda033923c132917be24376f', 'cfbc23b04aaad779626cb6897a1bfd82', 'fcdecc0dd1ad1bf1105e53780e78fdef', '6bd0e07e6405804e913403731236143f', '6ab2548c92a9eefd8b5b8ce017a4033b', '87fbce9ff75543104d9cb85447cce8f2', '62b230121e6d24b004f3fbaecaadbd8e', 'f34580233a55d138185501d4b3b70b0e', '2ec97be022c57e12d904bfddf97d9115', 'eca0a68f7a37dc2a79044247afe34ca3', '238a69e5f1f3ba6b7c33ba53074399ec', 'cbc7dab0d31214d2940269dfa1261a0a', '1c78967327afc29e08df7e11387d553e', 'a1e411580d055e37b5d8a0533ad88478', '4936f9217d57153da777c168023e54b8', '0c459870cd9c58b0aeb3a8edb3450937', 'c09d594f8862c7af04211375f25fbaef', 'c506eece987297ff6eb7f65105f75fbd', '20025cfcbbb276298957c611fec51db4', '42833f500cd0b3e59bc373acd59d940e', 'e9860b829c5a1caee689ec5c93f51412', '922226a538c9c7ff65c3ba6a79584f57', '92733160e210dfb220c2b735717fbd1f', '4052fd7579bcfaa0ac188b97b8a1654c', 'f8bab55fcb08bbeefa5531475be5f30f', '4aa75d4c0f9f0b584000f5515e1cf6e6', '1a8d9c9cf1a5848aa310df4cb75c4b79', '0071ea25580fce5960fc735f6ede1a82', 'ca61721e220b9c4a38d774ae627d2859', 'bf675363696e119051c1441a1a6d38ee', '21769ab6419c8044d8dd2cd2cf9c96ed', '2a7334d958ffae8eb6b19de0c1320697', '198206a65c5ddc247e44d1c691bf7abd', '2f8185b3c60802164db71c6b524f6d8a', 'e28f67b7dd781f2697216fb67690534e', '7f6d889ebaa03991274104ba46dae598', 'afe48d1aa9e7bda32035a35f7191a595', '30e2699f8db4ff293c7b91c0bf9684f6', '2912e6a14d3798fa770c69c3546a73d4', '2f454fe349685bf1847677d5af5aa43f', '31e0d8e4548931b597f4a6c812dcbeab', '702075fbf95e59abe2de2c21ce9a1496', '58ded7b0046f2c90a35a4a0ce94f219b', 'd1c4474689494f4fb2995f5e69fd822a', '9b6807b1df9a389aba129963036ee9b5', '3af0b4f931350a454d495ad65d232394', '3d1094710879915f99fc29781b6d8674', '4fd3ea7ffdb15ac89c4ccb6242b091c3', 'd74ebb69cfd9c3340c404938f2e2e634', '856b5ea1260faa997b41da59054d752b', '3aa9957db6a64c3eda61a77bb17d8659', 'cb255e86e1eb0fba0695022cb8cf87ef', '6886ba693fd7c02b7356ee6d82cbe9b8', '6aa6c27cbae6cb2838cb82a17ddc4b95', 'c622fde5fd548695e0c39a4bd4a91d98', '7fc920b8a932809759f67b9e271fb55b', '9daff623263bbc51205314f6ba18c5f8', '7c4a24c1dce5a861f1c403cb491b8ad2', '4cdf223c90620845a9d0ae6f41a497fc', '9399b53c55d8a76b26491dbaf805671f', '638c12611e3ad4d8c350a42e46a57e5f', '701447972b19fcd6ce12f99bdd95b642', '82a6630a56c483f610fccc4694a5e2e9', '65aa13efb783108c1c7496f5bdf6aa69', 'fa9477eb30b3d480091c6f2aced72843', 'c1ba8a86244e17116f845aba9957b06f', 'b29a3d929674c1b4a8f3750b0dacaef9', 'ce5ca0dbaa165adb66f682025ad13ca7', 'db93ffe8fe74e4657d8e87327c19c10c', 'b66c0910e1f4eceabaebce5123b4973f', '64e93210ef292ff0c7883295683945f0', '78182ba9a9cc76689308f317eb683122', '7d6fcdb470a87e283e23eb0f1926d7b3', '70b6ea913cd5de7a806fc4c075b5cd14', '49bfb2cce05f90abf7b4589d055c9fe8', '9cfdad2293dc7bc25184beca0f12eb09', '2c6e07aa84236a98ec177c403b4de814', '23f531fb637e08c9289a31b460337475', 'bcd56889af2dfbeee2386a13aad36447', '5666cc8243391c4d7582cae626102d19', '61d5ee2bb656d869be33e27c11daa658', '0d52a0df1a9cedae5ff9977fa0db6eec', '667fef0410d265b6762e2e5d6e689322', 'eefeb9893f4ea0995811d57522efcfce', 'e6b258a09e71bf09dc695aa937c77369', 'b678c9b22ec838e8e0d5a7a13637b0e8', 'b0dfece3cb5ef5c10b924a4ec7f865b8', 'e0989f5663f55bc5013bdf02842a4d62', 'ff42a5b69b5c214ba299d29a201495f0', '937fd370310d33d6493c731bafd86c0f', '189dda4f6686708866bbde7c6d342f2b', '50a1009b75c3c5720fa0025cd92c586d', 'c8751f2052ab10b8d5875a08d52e4e93', '7e7219adce5289a767953b688fe9a9f9', 'c7fb1210c1fc83c7545ac47985bf1ac5', '95578b5cce20bab1450e44989908ca61', 'e2e6991be7fc08cff1b44d30a52b9001', '38652772ec05d88a1ddc46060cc96ab8', 'e8fa9f7ab081182cea7da84c26646961', 'd25b99c85346ad3a91fb8001c3ee9d04', 'f1d4a36c56aaed929c339edb04a67330', '6c674524bc65726ae835264097e45dc2', '3f54d7b415886a5e7aa2edb81a8d0717', '5342eb1076e84658b02d7223afb6404b', '851755b25d32e647f87fa82b54e8b959', '33b537fee304f2b8392bfd2f7100b48a', 'cd019667892def6877304b9d6a9473ab', '2a4e0d60f5e67f48e3eab4acac88e9f3', '5f03c52b6e540ba216b3e96044553f51', '0b7a18aec13bbf25db3118140d317e1f', '48d61942316b84aa183dec40d4fdb1b7', '3725226e59e27f8631a750eeb445e49f', 'c3a52ba4d90d858c3b535f49438c6fb6', '87811a57bd44fc182502d8fe13f0ab67', 'c31c2e9f97e649e6ad57c174f9aabe90', 'bddd5a3b475a22da6734f700884d03a1', 'd25a4af9fdbfc1b00b1aa72bcab6196f', 'c60c64ed244047c3c7c2babf4aec640d', '5a53bbce54fce9d6a3ed0dfd2cc5b4de', 'b99fda7f545feeb74c8ac8a35b28289b', 'e1229a75e6b98ef3143bd025bc178136', 'ab3e33c10487bc50222f2773477c6783', '96920e8d2ed7571eca62e0df048bd227', '1969221caf68604414dca64894cd7855', 'cec3d5feec8a2f795f174e59e3a514da', '8ef85f2ee70f3b55a252f49d52ea4326', '4745b5d4df6459d28ea7ffaa29651804', '3ad8ef4485317c4eb51a45cbacfa7b45', 'f290416c185020225646876ceccc88ac', 'af46ce14483c8fe10e5e0e45a92611ae', '4bd789d6396f516da2a5caa9a8a8f7cc', 'd96c33911edf0d115de75d4c16696a24', '4f95f7f97e205b916b52c9cdc673140d', '91003bd0a29bfc60db5abd24eb48a88b', 'c3b51137f6ea8a696501de4f0b0200bd', '90683e978dceaca80dd5a3d509853e8b', '2d97b79108728fdfb3256f151860e0b8', 'dec58f95513e74ceddb89eb12c80090c', '04a001b2ba2be5462fdcee30fda5abcb', 'e11b80922018e6f2765fa1b5da7c95c4', 'c072ecd3a7e7806ac50d6053f83cb3f8', 'ce07715af6a6186f342d4ded88c3d828', '8b8dbd3297535a5be5cb3baa37f170dd', '91d64f4af911b144e4cc2e193ba221ef', 'd44ea94db009a76460da59dcab1ecbed', 'a252763298a85485adae2c8488e4d21b', '28a55fdd5406944d89d53722e796951c', '9af8984ea61cef7d517a473b8075b6d9', '51e452f8ec3da2980a7e04b413437462', 'cf58b1a47960e7353370986a808de858', 'e83cfd09c19a0b7b96fa0a3156d6e5c5', '5c476030ca00f5353941d0e83056abfe', '51957304b5904513dea836492bb88c8d', '781aad87aa10c6bbf1e3bf5169bddb05', '87ca7ccd07c1fcaf59fc3f1676058bed', '23284c8aa61d0f9000096ee799ff7590', '0cdb8455514efda72a02572eb03f7b66', 'f227549048a2eae5759540b707eceee6', 'e64bc30bf3c891c8a5bbd9f6ada28a04', '20c0311b8c702c44c84152da8a516f4d', '69233ad27c92f07696bb65dd9c753cde', '993460aff5181710a50b114a50964be7', '158f0d1b9522b70834f7d9afcfab9ffe', 'c5a97171b34fad458dd8b7b562cfed65', '4b4cd3238ce500ae0d2181fe7aedd7c9', '180c9896e1e14e32f7942de605b9dbf2', '4213484629c281098afbf2db2e4ba603', '03f1d3f4838e30678e0e03ffb8439488', '3dd1d44667698576bd8db9390596b688', 'a2581050cbd87e0f1b988b3a324648de', 'b916eaca9017f4af4b2a3bc9363667e9', '8fd118fd794da0b255945f7657e4bd4e', '15754d5520f4737bc50f890f3c3ff3c0', '51324a5c7ac19c5da9cd383093395241', '05fe2a0896f42ee26ebacb37a117405a', 'b999d7199cc22db94688c8426052d256', 'dab95d1e8908f5e5dd5df1d162e85302', 'b55903d836df58f7b6e90662bfc4e82a', '81cf59bd2605b046804acaa0a1c42016', '2a5259e0f338a1457fa55d879f203d85', 'd9e247806023794f375b2e135e6cb4b0', 'c8e36a3721ef2abd2210ac01e94d526a', 'f600d52c399b9a87e657b5de6e8bcaf7', 'fb93f9c1958e6d0a23b3671782f22afe', '4f1ce9796fc8e9861948ab2ae10b2644', '1887bfc4d0e4172a0edbd71db3e62f71', '4a254d126cf9e044d3bb95a7b0b175cf', '422b767e368a3d0c4b4be0380d0eb079', '21c7654734778e8aa7d3a4c8f94cf482', '1ff8d7b713ddf07e6d6d442d130dd5ed', 'eccb4f289ba98ea47383298575a9a318', '4c7068096965b2d53b8526458dc18b26', '968f102e26a6cf0e5208b16db89a00d6', '0fc478b4315477fbcddd974fa7cb6858', '6d5e50ee5654ebe5e9539e10bc28207c', '0b207ea799810c7bda90b1af8ebca64d', 'b08451fdd21ad67e6c8cfc0fbabb8a92', 'c1269894ab9ff8f371a5c665dd7cdcf8', '972035a6f5fe70fb36db5f0a906d7834', 'd51216589db7b247b22190e2b21c16ee', 'efe5fcfd3f3cc1e124b49c211a967b9f', '89445f568dc4590ae7c4af6c1be491cd', '4cd1eae3b160c5633fe4726ef6ef6555', 'de96b395a458effd3e523b244c9b44b5', '67bf2b7264f769e46e91f2ba71e03667', '940b39bd421879e2fc08f36c29dad8f1', '0a95c63bc407a7024b381772e065ca46', '5c61769ae4822a5de2fa23f9096f3177', '3deb04eb693247dfba164b90ed609f34', '796b5b68156d37cc7d4b4ee115ff05bc', '4e1b11c6d84c6e06e9ee7a16f02e5b50', 'b9378e13732d599ce10fb609b581f5a8', '9fe980ee57a5b30c568047151f99a973', '5ca7a880af5f7b17081aeeb37881a0d1', 'db8ba1f1dfdbdef6991d02770349906b', '04f9651ec3ebe0ece6a26414d2ca52d1', 'ea4e600f971ff25f46c6782c1ccb9019', '8b475f74e4542861d5bf6c950a04d5f0', 'ede8ff2c68362d9ae7bea1e7f44294a0', 'b93b770931ec5759af3dd54334b2fa8c', '55ab3f99f6b3e4a22290eece44444e0d', '8fcd7def30f1727983585601f3185363', 'ca22fd616a478a69c7640615ec541878', '5d6a42de80437a28ff05b2fc84778bab', '06b31aa241fc3ebfe12c54e262d75bab', '9503bdac78c3a329a94c10f3d64a4673', 'eebb176cc748bb5fd62719d7283404d2', '5f1e4b991d13492c7b5436df9c8a7fe3', '5d0e013ae37c1c142a8f427abc4224a0', 'c411fcd9de4fc9819d6e87ffbf5c8659', 'a51281a5a353e343590531ca889c71c4', 'b63fb768da1f41ed35e00a9f36a5219c', '8fe17f4a5a92a1f14b40d4458e1f0443', '05b317a35af93aa8c723642ee06930ef', '343375ecebb054297ccd8049e1d4a5c9', '58505651826f43631c7513e4302bfb6c', '856322a4272c8174be58463a529aa820', '43a5931c552bcd2095ade380f9f4bd24', '11378bb15cf9b35d5d6f5296d86a0ad0', '9e0dbcf6bd6dd9288e9bc9c56c3ee7ad', '397f185fa0d3c6e6034fdfb1fdaf7231', '4572a7834c59229067544c4bf6e44a6a', '90ad707e9db56a875f886720c40e0852', '300d0530e5833b69f06bda1aeaeb7ac0', '793abecd8d517dd9852017fb4a40f0b2', '012c24a2b8d245596a84b0b2d0abf08c', 'b74a8db68afcd95dde0b69217447b7a3', 'f71444e52913b9ea1d765ea1b1cbacde', '183bb901396d60de0987e3fe5044a903', '29aecba1afca9a2f2e9f574c82679fb3', '4fb78af20c8e8aec1b975ccd6ede3167', '702bc9fb90a1d8d1d5d2c942fb63feda', '0dbcf243ffa80666940d22007d9d74ba', '5432a1391770347c12cc46e34aafc04e', 'f19cc65382b39dec12c19824d835d56b', '41826ecf3de0e82df4ae6b5d98c88942', '70d68c13507bddcb34e45baf932994f8', '8d195469b5ea56c103ef79f2d44582a2', '12e9c70e01ef07e6c9c41303040d51bf', '6988fdcaeb2e7db92dca40791deadf89', '43c845ae6a7d5f8e3eea399db40bf76f', '7bacf0c8415ecdfe3ae19a5498207b72', 'e8f5d63f55ac9cee6835f08140e2aeea', '70de7368336ac7450af86c2afbedf7bf', '48466aef875afc5317a2f217482904d9', 'b3367775fc44d106ba90c5d79ab96d4b', '05e2e6c9a029ac1d2d5ea24726466af2', '9c64c88ef6b6a8da3b6d323726185169', '746584f21569ae5d5bf30c225e30da62', 'f7eea02706f3470aa0a71a3b2b398b7c', '5f2902d9a2aff3aa394f49d6ceaa107a', '0530fa3308a669aaf1ee427c877775bb', '15de8957223e430c7485609db95d169f', 'faf37bd7788b56a240137d01e79ab77d', '9614926a0e2a8487f7e353b86de6d68a', '51610ff29c4395ad763e9bde13bb0864', 'a3b5efaa380697af9d2378760bf243e3', '45231cb7e8a65b12a13a7f283cd429da', '3c517581b7d0d72c64e6028df81a87c7', '7b7944c6c49a3085d3503e18437fe897', '42090bee8d0ff2882bf27c433069f736', 'ace784d2ac32b7742de5b219c405cae8', '99b05f5739a4b10b61122ff9b0820163', 'ecb20210fab5c2d6eaa80e79aa159c25', 'a217febe66f39d16b2175e0b0b4cbb2d', '62bcd897e9941f476446ebb0d190df07', '9e631c5126d6f23a3a341fbe484146ae', '3017d27209101eaa4492f0b330d74ab5', '8bd5e44d1a49f4360f1b7037613aab45', '67083240d24d499c90025f1fda87107c', '9717d79cbc3801e993e9f74b2384d8da', '70af9889f66f35ac8fa5e33f6b35d11d', 'da858e7e2a368875293d4fb3240f786e', 'dc44740b84dd9113b0c6a563d738a2d4', '8e9730c9f90a1a2fa0ec06da493590da', 'b03f1a475a2c8948a6b2e7d45d074193', '7fecb49af57c9b082968cf5e8236368e', '36380836bb53e7aec377420b314c248b', '39bc68b359da9ddd1cdd656c1394b91b', 'ee5044cc837c2c85cd402a4ab91fd846', '701b4fcb2154903ffc2bcfdc0f7cdedb']}\n"
     ]
    }
   ],
   "source": [
    "# Base url of the API\n",
    "URL_TEMPLATE = 'http://iccluster050.iccluster.epfl.ch:5050/v1.0/facebook?user={user_id}'\n",
    "# Target user id\n",
    "user_id = 'a5771bce93e200c36f7cd9dfd0e5deaa'\n",
    "# The actual url to call \n",
    "url = URL_TEMPLATE.format(user_id=user_id)\n",
    "# Execute the HTTP Get request\n",
    "response = requests.get(url)\n",
    "# Format the json response as a Python dict\n",
    "data = response.json()\n",
    "print(data)"
   ]
  },
  {
   "cell_type": "code",
   "execution_count": 8,
   "metadata": {},
   "outputs": [],
   "source": [
    "# Random Walk algorithm. N defines the number of users we want to visit.\n",
    "def RW(source_node, N):\n",
    "    # use the same seed\n",
    "    random.seed(0)\n",
    "    \n",
    "    current_node = source_node\n",
    "    i = 0\n",
    "    ages = []\n",
    "    while (i<N):\n",
    "        # The actual url to call \n",
    "        url = URL_TEMPLATE.format(user_id=current_node)\n",
    "        # Execute the HTTP Get request\n",
    "        response = requests.get(url)\n",
    "        # Format the json response as a Python dict\n",
    "        data = response.json()\n",
    "        # Get age of current node and append it to the list of ages\n",
    "        current_age = data['age']\n",
    "        ages.append(current_age)\n",
    "        # Choose at random a friend of the current node\n",
    "        current_node = random.choice(data['friends'])\n",
    "        i += 1\n",
    "        \n",
    "    average_age = np.mean(ages)\n",
    "    print('Average age', average_age)\n",
    "    return average_age, ages"
   ]
  },
  {
   "cell_type": "code",
   "execution_count": 22,
   "metadata": {},
   "outputs": [],
   "source": [
    "# Check convergence of algorithm and print the average Facebook user age.\n",
    "def find_average_age(algorithm, source_node, N, epsilon, max_iters):\n",
    "    temp_node = algorithm(source_node,1)[0]\n",
    "    n = 0 # initialize iteration counter\n",
    "\n",
    "    while (n < max_iters):\n",
    "        current_node = algorithm('a5771bce93e200c36f7cd9dfd0e5deaa', N)[0]\n",
    "        if (abs(temp_node - current_node) > epsilon):\n",
    "            temp_node = current_node\n",
    "            n +=1\n",
    "            N += 50 # we choose to increase the number of random walks by 50 each time\n",
    "        else:\n",
    "            print(\"The algorithm converged and the mean user age is\", np.around(current_node))\n",
    "            print(\"Number of users visited is\", N)\n",
    "            break "
   ]
  },
  {
   "cell_type": "code",
   "execution_count": 23,
   "metadata": {},
   "outputs": [
    {
     "name": "stdout",
     "output_type": "stream",
     "text": [
      "Average age 13.0\n",
      "Average age 24.87\n",
      "Average age 23.8\n",
      "Average age 23.11\n",
      "Average age 22.344\n",
      "Average age 21.57\n",
      "Average age 21.614285714285714\n",
      "The algorithm converged and the mean user age is 22.0\n",
      "Number of users visited is 350\n"
     ]
    }
   ],
   "source": [
    "find_average_age(RW, user_id, 100, 0.4, 200) # N = 350"
   ]
  },
  {
   "attachments": {},
   "cell_type": "markdown",
   "metadata": {},
   "source": [
    "**What is your estimation of the average age of a Facebook user?  How many users did you visit to get this estimation?**\n",
    "\n",
    "Our estimation of the average age of a Facebook user is 22 years old. We have to visit about 350 users to get this estimation (N depends on the initial value we give it and how precise we want to be when converging - epsilon)."
   ]
  },
  {
   "cell_type": "code",
   "execution_count": 11,
   "metadata": {},
   "outputs": [
    {
     "name": "stdout",
     "output_type": "stream",
     "text": [
      "Average age 24.87\n",
      "Average age 23.8\n",
      "Average age 23.11\n",
      "Average age 22.344\n",
      "Average age 21.57\n",
      "Average age 21.614285714285714\n",
      "Average age 22.0375\n",
      "Average age 21.675555555555555\n",
      "Average age 21.9\n",
      "Average age 21.78181818181818\n"
     ]
    },
    {
     "data": {
      "text/plain": [
       "[<matplotlib.lines.Line2D at 0x112a2aab280>]"
      ]
     },
     "execution_count": 11,
     "metadata": {},
     "output_type": "execute_result"
    },
    {
     "data": {
      "image/png": "[encoded data removed]",
      "text/plain": [
       "<Figure size 432x288 with 1 Axes>"
      ]
     },
     "metadata": {
      "needs_background": "light"
     },
     "output_type": "display_data"
    }
   ],
   "source": [
    "# Plot graph to investigate convergence\n",
    "N = np.arange(100,600,50)\n",
    "walks = [RW('a5771bce93e200c36f7cd9dfd0e5deaa', n)[0] for n in N]\n",
    "plt.plot(N, walks)"
   ]
  },
  {
   "attachments": {},
   "cell_type": "markdown",
   "metadata": {},
   "source": [
    "#### Exercise 2.8"
   ]
  },
  {
   "cell_type": "markdown",
   "metadata": {},
   "source": [
    "1. Our average of 22 years old is not as close as we would like to 45 years old. \n",
    "2. In order to explain the discrepancy we have to investigate further:"
   ]
  },
  {
   "cell_type": "code",
   "execution_count": 12,
   "metadata": {},
   "outputs": [],
   "source": [
    "# Check frequency of ages in RW\n",
    "# Same algorithm as RW but calculates the frequency of each unique age value and plots it as a bar graph.\n",
    "def RW_freq(source_node, N):\n",
    "    ages = RW(source_node=source_node, N=N)[1]\n",
    "\n",
    "    ages, counts = np.unique(ages, return_counts=True)\n",
    "    plt.bar(ages, counts)"
   ]
  },
  {
   "cell_type": "code",
   "execution_count": 13,
   "metadata": {},
   "outputs": [
    {
     "name": "stdout",
     "output_type": "stream",
     "text": [
      "Average age 21.9\n"
     ]
    },
    {
     "data": {
      "image/png": "[encoded data removed]",
      "text/plain": [
       "<Figure size 432x288 with 1 Axes>"
      ]
     },
     "metadata": {
      "needs_background": "light"
     },
     "output_type": "display_data"
    }
   ],
   "source": [
    "RW_freq(user_id, 500)"
   ]
  },
  {
   "cell_type": "code",
   "execution_count": 14,
   "metadata": {},
   "outputs": [],
   "source": [
    "# Plot a graph to investigate the relationship between node degree and frequency\n",
    "\n",
    "def RW_degrees(source_node, N):\n",
    "    random.seed(0)\n",
    "    current_node = source_node\n",
    "    i = 0\n",
    "    degrees = []\n",
    "    while (i<N):\n",
    "        # The actual url to call \n",
    "        url = URL_TEMPLATE.format(user_id=current_node)\n",
    "        # Execute the HTTP Get request\n",
    "        response = requests.get(url)\n",
    "        # Format the json response as a Python dict\n",
    "        data = response.json()\n",
    "        current_node_degree = len(data['friends'])\n",
    "\n",
    "        # To investigate the age of the degrees that have many friends in Facebook:\n",
    "        if current_node_degree > 300:\n",
    "            print('Current user has', current_node_degree, 'friends and his age is', data['age'])\n",
    "        degrees.append(current_node_degree)\n",
    "        current_node = random.choice(data['friends'])\n",
    "        i += 1\n",
    "\n",
    "    degree, counts = np.unique(degrees, return_counts=True)\n",
    "    plt.plot(degree, counts)"
   ]
  },
  {
   "cell_type": "code",
   "execution_count": 16,
   "metadata": {},
   "outputs": [
    {
     "name": "stdout",
     "output_type": "stream",
     "text": [
      "Current user has 341 friends and his age is 13\n",
      "Current user has 768 friends and his age is 12\n",
      "Current user has 820 friends and his age is 19\n",
      "Current user has 370 friends and his age is 16\n",
      "Current user has 949 friends and his age is 15\n",
      "Current user has 550 friends and his age is 18\n",
      "Current user has 550 friends and his age is 18\n",
      "Current user has 325 friends and his age is 16\n"
     ]
    },
    {
     "data": {
      "image/png": "[encoded data removed]",
      "text/plain": [
       "<Figure size 432x288 with 1 Axes>"
      ]
     },
     "metadata": {
      "needs_background": "light"
     },
     "output_type": "display_data"
    }
   ],
   "source": [
    "RW_degrees(user_id, 500)"
   ]
  },
  {
   "cell_type": "markdown",
   "metadata": {},
   "source": [
    "2. **How would you explain the discrepancy?**\n",
    "\n",
    "Plotting the frequency of ages that we reach from the starting node (1st plot), we can clearly see that there is a big gap in ages from about 30 to 50. Thus, with the current RW algorithm I would require more older ages reached if I require for an average age of 45.\n",
    "\n",
    "It is also evident that more nodes/facebook users reached by the RW are of the age around 20, that's why the frequency is much higher there. Thus the discrepancy might be because the high degree nodes are sampled more frequently. By the third plot, we can see the users that have above 300 friends on Facebook are less than 20 years old! Hence, the probability of visiting the same \"young\" nodes is much greater, and thus this theory is very probable. \n",
    "\n",
    "3. **Implement a modification to the RW algorithm**\n",
    "\n",
    "For the new RW algorithm we changed the way we calculate the average age. We want to deal with the fact that nodes with a high degree are sampled more frequently. Hence, we \"normalize\" the ages of the nodes by dividing the age of the user by his number of friends (degree)."
   ]
  },
  {
   "cell_type": "code",
   "execution_count": 28,
   "metadata": {},
   "outputs": [],
   "source": [
    "# Random Walk algorithm. N defines the number of users we want to visit.\n",
    "def RW_updated(source_node, N):\n",
    "    # use the same seed\n",
    "    random.seed(0)\n",
    "    \n",
    "    current_node = source_node\n",
    "    i = 0\n",
    "    ages = []\n",
    "    degrees = []\n",
    "    while (i<N):\n",
    "        # The actual url to call \n",
    "        url = URL_TEMPLATE.format(user_id=current_node)\n",
    "        # Execute the HTTP Get request\n",
    "        response = requests.get(url)\n",
    "        # Format the json response as a Python dict\n",
    "        data = response.json()\n",
    "        # Get age of current node and append it to the list of ages\n",
    "\n",
    "        current_age = data['age']\n",
    "        ages.append(current_age)\n",
    "\n",
    "        current_degree = len(data['friends'])\n",
    "        degrees.append(current_degree)\n",
    "\n",
    "        # Choose at random a friend of the current node\n",
    "        current_node = random.choice(data['friends'])\n",
    "        i += 1\n",
    "\n",
    "    normalized = np.divide(ages, degrees)\n",
    "\n",
    "    average = sum(normalized) / sum(np.divide(np.ones_like(degrees), degrees))\n",
    "    print('Updated average age', average)\n",
    "    return average, ages\n"
   ]
  },
  {
   "cell_type": "code",
   "execution_count": 30,
   "metadata": {},
   "outputs": [
    {
     "name": "stdout",
     "output_type": "stream",
     "text": [
      "Updated average age 13.0\n",
      "Updated average age 52.81795543748625\n",
      "Updated average age 45.95640093752468\n",
      "Updated average age 45.3010947910664\n",
      "Updated average age 44.265519513219246\n",
      "Updated average age 42.80739807904791\n",
      "Updated average age 41.762214723126675\n",
      "Updated average age 41.76528478734188\n",
      "The algorithm converged and the mean user age is 42.0\n",
      "Number of users visited is 350\n"
     ]
    }
   ],
   "source": [
    "find_average_age(RW_updated, user_id, 50, 0.4, 200) # N = 350"
   ]
  },
  {
   "attachments": {},
   "cell_type": "markdown",
   "metadata": {},
   "source": [
    "This way, our new estimation is very close to the one proposed by the study."
   ]
  }
 ],
 "metadata": {
  "kernelspec": {
   "display_name": "Python 3",
   "language": "python",
   "name": "python3"
  },
  "language_info": {
   "codemirror_mode": {
    "name": "ipython",
    "version": 3
   },
   "file_extension": ".py",
   "mimetype": "text/x-python",
   "name": "python",
   "nbconvert_exporter": "python",
   "pygments_lexer": "ipython3",
   "version": "3.9.7"
  }
 },
 "nbformat": 4,
 "nbformat_minor": 2
}
