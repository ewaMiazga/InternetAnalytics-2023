{
 "cells": [
  {
   "cell_type": "markdown",
   "metadata": {},
   "source": [
    "# Networks: structure, evolution & processes\n",
    "**Internet Analytics - Lab 2**\n",
    "\n",
    "---\n",
    "\n",
    "**Group:** *Your group letter.*\n",
    "\n",
    "**Names:**\n",
    "\n",
    "* *Name 1*\n",
    "* *Name 2*\n",
    "* *Name 3*\n",
    "\n",
    "---\n",
    "\n",
    "#### Instructions\n",
    "\n",
    "*This is a template for part 2 of the lab. Clearly write your answers, comments and interpretations in Markodown cells. Don't forget that you can add $\\LaTeX$ equations in these cells. Feel free to add or remove any cell.*\n",
    "\n",
    "*Please properly comment your code. Code readability will be considered for grading. To avoid long cells of codes in the notebook, you can also embed long python functions and classes in a separate module. Don’t forget to hand in your module if that is the case. In multiple exercises, you are required to come up with your own method to solve various problems. Be creative and clearly motivate and explain your methods. Creativity and clarity will be considered for grading.*"
   ]
  },
  {
   "cell_type": "markdown",
   "metadata": {},
   "source": [
    "---\n",
    "\n",
    "## 2.2 Network sampling\n",
    "\n",
    "#### Exercise 2.7: Random walk on the Facebook network"
   ]
  },
  {
   "cell_type": "code",
   "execution_count": 86,
   "metadata": {
    "collapsed": true
   },
   "outputs": [],
   "source": [
    "# Import useful packages\n",
    "import requests\n",
    "import random\n",
    "import numpy as np\n",
    "import matplotlib.pyplot as plt\n"
   ]
  },
  {
   "cell_type": "code",
   "execution_count": 87,
   "metadata": {},
   "outputs": [
    {
     "name": "stdout",
     "output_type": "stream",
     "text": [
      "13\n"
     ]
    }
   ],
   "source": [
    "# Base url of the API\n",
    "URL_TEMPLATE = 'http://iccluster050.iccluster.epfl.ch:5050/v1.0/facebook?user={user_id}'\n",
    "# Target user id\n",
    "user_id = 'a5771bce93e200c36f7cd9dfd0e5deaa'\n",
    "# The actual url to call \n",
    "url = URL_TEMPLATE.format(user_id=user_id)\n",
    "# Execute the HTTP Get request\n",
    "response = requests.get(url)\n",
    "# Format the json response as a Python dict\n",
    "data = response.json()\n",
    "print(data['age'])"
   ]
  },
  {
   "attachments": {},
   "cell_type": "markdown",
   "metadata": {},
   "source": [
    "Crawl the Facebook graph to estimate the average age of users in the social network using the random walk approach of Algorithm 2.1,starting from node \"a5771bce93e200c36f7cd9dfd0e5deaa\".\n",
    "\n",
    "What is your estimation of the average age of a Facebook user? \n",
    "How many users did you visit to get this estimation?"
   ]
  },
  {
   "cell_type": "code",
   "execution_count": 88,
   "metadata": {},
   "outputs": [],
   "source": [
    "# Random Walk algorithm. N defines the number of users we want to visit.\n",
    "def RW(source_node, N):\n",
    "    # use the same seed\n",
    "    random.seed(0)\n",
    "    \n",
    "    current_node = source_node\n",
    "    i = 0\n",
    "    ages = []\n",
    "    while (i<N):\n",
    "        # The actual url to call \n",
    "        url = URL_TEMPLATE.format(user_id=current_node)\n",
    "        # Execute the HTTP Get request\n",
    "        response = requests.get(url)\n",
    "        # Format the json response as a Python dict\n",
    "        data = response.json()\n",
    "        # Get age of current node and append it to the list of ages\n",
    "        current_age = data['age']\n",
    "        ages.append(current_age)\n",
    "        # Choose at random a friend of the current node\n",
    "        current_node = random.choice(data['friends'])\n",
    "        i += 1\n",
    "        \n",
    "    average_age = np.mean(ages)\n",
    "    print('Average age', average_age)\n",
    "    return average_age, ages"
   ]
  },
  {
   "cell_type": "code",
   "execution_count": 89,
   "metadata": {},
   "outputs": [
    {
     "name": "stdout",
     "output_type": "stream",
     "text": [
      "Average age 24.87\n",
      "Average age 23.8\n",
      "Average age 23.11\n",
      "Average age 22.344\n",
      "Average age 21.57\n",
      "Average age 21.614285714285714\n",
      "Average age 22.0375\n",
      "Average age 21.675555555555555\n",
      "Average age 21.9\n",
      "Average age 21.78181818181818\n"
     ]
    },
    {
     "data": {
      "text/plain": [
       "[<matplotlib.lines.Line2D at 0x255f7b131c0>]"
      ]
     },
     "execution_count": 89,
     "metadata": {},
     "output_type": "execute_result"
    },
    {
     "data": {
      "image/png": "[encoded data removed]",
      "text/plain": [
       "<Figure size 432x288 with 1 Axes>"
      ]
     },
     "metadata": {
      "needs_background": "light"
     },
     "output_type": "display_data"
    }
   ],
   "source": [
    "# Plot graph to investigate convergence\n",
    "N = np.arange(100,600,50)\n",
    "walks = [RW('a5771bce93e200c36f7cd9dfd0e5deaa', n)[0] for n in N]\n",
    "plt.plot(N, walks)"
   ]
  },
  {
   "cell_type": "code",
   "execution_count": 90,
   "metadata": {},
   "outputs": [],
   "source": [
    "# Check convergence of algorithm and print the average Facebook user age.\n",
    "def find_average_age(source_node, N, epsilon, max_iters):\n",
    "    temp_node = RW(source_node,1)[0]\n",
    "    n = 0 # initialize iteration counter\n",
    "\n",
    "    while (n < max_iters):\n",
    "        current_node = RW('a5771bce93e200c36f7cd9dfd0e5deaa', N)[0]\n",
    "        if (abs(temp_node - current_node) > epsilon):\n",
    "            temp_node = current_node\n",
    "            n +=1\n",
    "            N += 50\n",
    "        else:\n",
    "            print(\"The algorithm converged and the mean user age is\", np.around(current_node))\n",
    "            break "
   ]
  },
  {
   "cell_type": "code",
   "execution_count": 93,
   "metadata": {},
   "outputs": [
    {
     "name": "stdout",
     "output_type": "stream",
     "text": [
      "Average age 13.0\n",
      "Average age 24.87\n",
      "Average age 23.8\n",
      "Average age 23.11\n",
      "Average age 22.344\n",
      "Average age 21.57\n",
      "Average age 21.614285714285714\n",
      "The algorithm converged and the mean user age is 22.0\n"
     ]
    }
   ],
   "source": [
    "find_average_age(user_id, 100, 0.4, 200)"
   ]
  },
  {
   "cell_type": "markdown",
   "metadata": {},
   "source": [
    "#### Exercise 2.8"
   ]
  },
  {
   "attachments": {},
   "cell_type": "markdown",
   "metadata": {},
   "source": [
    "1. Our average of 22 years old is not as close as we would like to 45 years old. "
   ]
  },
  {
   "cell_type": "code",
   "execution_count": 94,
   "metadata": {
    "collapsed": true
   },
   "outputs": [],
   "source": [
    "# Check frequency of ages in RW\n",
    "# Same algorithm as RW but calculates the frequency of each unique age value and plots it as a bar graph.\n",
    "def RW_freq(source_node, N):\n",
    "    ages = RW(source_node=source_node, N=N)[1]\n",
    "\n",
    "    ages, counts = np.unique(ages, return_counts=True)\n",
    "    plt.bar(ages, counts)"
   ]
  },
  {
   "cell_type": "code",
   "execution_count": 95,
   "metadata": {},
   "outputs": [
    {
     "name": "stdout",
     "output_type": "stream",
     "text": [
      "Average age 21.9\n"
     ]
    },
    {
     "data": {
      "image/png": "[encoded data removed]",
      "text/plain": [
       "<Figure size 432x288 with 1 Axes>"
      ]
     },
     "metadata": {
      "needs_background": "light"
     },
     "output_type": "display_data"
    }
   ],
   "source": [
    "RW_freq(user_id, 500)"
   ]
  },
  {
   "cell_type": "code",
   "execution_count": 96,
   "metadata": {},
   "outputs": [],
   "source": [
    "# Function that plots the age of each user at every iteration of the RW\n",
    "def ages_plot(source_node, N):\n",
    "    ages = RW(source_node=source_node, N=N)[1]\n",
    "    plt.plot(ages)"
   ]
  },
  {
   "cell_type": "code",
   "execution_count": 97,
   "metadata": {},
   "outputs": [
    {
     "name": "stdout",
     "output_type": "stream",
     "text": [
      "Average age 21.9\n"
     ]
    },
    {
     "data": {
      "image/png": "[encoded data removed]",
      "text/plain": [
       "<Figure size 432x288 with 1 Axes>"
      ]
     },
     "metadata": {
      "needs_background": "light"
     },
     "output_type": "display_data"
    }
   ],
   "source": [
    "ages_plot(user_id, 500)"
   ]
  },
  {
   "attachments": {},
   "cell_type": "markdown",
   "metadata": {},
   "source": [
    "2. How would you explain the discrepancy?\n",
    "\n",
    "Plotting the frequency of ages that we reach from the starting node, we can clearly see that there is a big gap in ages from about 30 to 50. Thus, with the current RW algorithm I would require more older ages reached if I require for an average age of 45.\n",
    "\n",
    "\n",
    "It is also evident that (according to the caluclated mean) more nodes/facebook users are of the age around 20, that's why the frequency is much higher there.\n",
    "\n",
    "\n",
    "It may have something to do with the fact that the starting node is of age 13. Thus, the starting node's friends are always around its age 10-20 and it also may have its parents' friends that are about 50-60 years old.\n"
   ]
  },
  {
   "attachments": {},
   "cell_type": "markdown",
   "metadata": {},
   "source": [
    "Plotting the results over time gives us the same result. No ages are reached betweem 30 and 50 years old. \n",
    "\n"
   ]
  },
  {
   "cell_type": "code",
   "execution_count": 98,
   "metadata": {},
   "outputs": [],
   "source": [
    "# Plot a graph to investigate the relationship between node degree\n",
    "# and frequency\n",
    "\n",
    "def RW_degrees(source_node, N):\n",
    "    random.seed(0)\n",
    "    current_node = source_node\n",
    "    i = 0\n",
    "    degrees = []\n",
    "    while (i<N):\n",
    "        # The actual url to call \n",
    "        url = URL_TEMPLATE.format(user_id=current_node)\n",
    "        # Execute the HTTP Get request\n",
    "        response = requests.get(url)\n",
    "        # Format the json response as a Python dict\n",
    "        data = response.json()\n",
    "        current_node_degree = len(data['friends'])\n",
    "        degrees.append(current_node_degree)\n",
    "        current_node = random.choice(data['friends'])\n",
    "        i += 1\n",
    "\n",
    "    degree, counts = np.unique(degrees, return_counts=True)\n",
    "    print('Degrees encountered:', degree)\n",
    "    plt.plot(degree, counts)"
   ]
  },
  {
   "cell_type": "code",
   "execution_count": 99,
   "metadata": {},
   "outputs": [
    {
     "name": "stdout",
     "output_type": "stream",
     "text": [
      "Degrees encountered: [  1   2   3   5   6   7   8   9  10  11  12  13  14  15  16  17  18  19\n",
      "  20  21  22  23  24  25  26  27  29  30  31  32  34  36  37  38  39  40\n",
      "  42  43  45  47  48  49  50  51  52  53  56  57  58  63  66  70  73  75\n",
      "  77  78  79  80  83  97 101 104 105 106 108 116 144 162 166 168 175 179\n",
      " 182 199 221 222 223 325 341 370 550 768 820 949]\n"
     ]
    },
    {
     "data": {
      "image/png": "[encoded data removed]",
      "text/plain": [
       "<Figure size 432x288 with 1 Axes>"
      ]
     },
     "metadata": {
      "needs_background": "light"
     },
     "output_type": "display_data"
    }
   ],
   "source": [
    "RW_degrees(user_id,500)"
   ]
  },
  {
   "attachments": {},
   "cell_type": "markdown",
   "metadata": {},
   "source": [
    "It is possible that the high degree nodes are sampled more frequently.\n",
    "\n",
    "It is very interesting that most users have around 50 friends. However, there are some users that have a huge amount of friends, over 500."
   ]
  },
  {
   "cell_type": "code",
   "execution_count": null,
   "metadata": {},
   "outputs": [],
   "source": [
    "\n"
   ]
  }
 ],
 "metadata": {
  "kernelspec": {
   "display_name": "Python 3",
   "language": "python",
   "name": "python3"
  },
  "language_info": {
   "codemirror_mode": {
    "name": "ipython",
    "version": 3
   },
   "file_extension": ".py",
   "mimetype": "text/x-python",
   "name": "python",
   "nbconvert_exporter": "python",
   "pygments_lexer": "ipython3",
   "version": "3.9.7"
  }
 },
 "nbformat": 4,
 "nbformat_minor": 2
}
