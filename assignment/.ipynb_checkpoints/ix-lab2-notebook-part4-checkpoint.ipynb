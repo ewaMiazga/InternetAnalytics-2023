{
 "cells": [
  {
   "cell_type": "markdown",
   "metadata": {},
   "source": [
    "# Networks: structure, evolution & processes\n",
    "**Internet Analytics - Lab 2**\n",
    "\n",
    "---\n",
    "\n",
    "**Group:** *Your group letter.*\n",
    "\n",
    "**Names:**\n",
    "\n",
    "* *Name 1*\n",
    "* *Name 2*\n",
    "* *Name 3*\n",
    "\n",
    "---\n",
    "\n",
    "#### Instructions\n",
    "\n",
    "*This is a template for part 4 of the lab. Clearly write your answers, comments and interpretations in Markodown cells. Don't forget that you can add $\\LaTeX$ equations in these cells. Feel free to add or remove any cell.*\n",
    "\n",
    "*Please properly comment your code. Code readability will be considered for grading. To avoid long cells of codes in the notebook, you can also embed long python functions and classes in a separate module. Don’t forget to hand in your module if that is the case. In multiple exercises, you are required to come up with your own method to solve various problems. Be creative and clearly motivate and explain your methods. Creativity and clarity will be considered for grading.*"
   ]
  },
  {
   "cell_type": "markdown",
   "metadata": {},
   "source": [
    "---\n",
    "\n",
    "## 2.4 PageRank\n",
    "\n",
    "### 2.4.1 Random Surfer Model\n",
    "\n",
    "#### Exercise 2.12"
   ]
  },
  {
   "cell_type": "code",
   "execution_count": 2,
   "metadata": {},
   "outputs": [],
   "source": [
    "#Imports\n",
    "import numpy as np\n",
    "import pandas as pd\n",
    "import networkx as nx\n",
    "import matplotlib.pyplot as plt"
   ]
  },
  {
   "cell_type": "code",
   "execution_count": 40,
   "metadata": {},
   "outputs": [],
   "source": [
    "DATA_DIR = './../data/'\n",
    "\n",
    "G = nx.Graph()\n",
    "G = nx.read_adjlist(f'{DATA_DIR}components.graph')"
   ]
  },
  {
   "cell_type": "code",
   "execution_count": 50,
   "metadata": {},
   "outputs": [],
   "source": [
    "def plot_graph(G, final_probs, int2node, bool_final_probs=False):\n",
    "    \n",
    "    # defining labels\n",
    "    labels = int2node\n",
    "\n",
    "    # zachary karate club\n",
    "    try:\n",
    "        clubs = np.array(list(map(lambda x: G.nodes[x]['club'], G.nodes())))\n",
    "        labels = dict(zip(G.nodes(), clubs)) \n",
    "    except:\n",
    "        pass   \n",
    "\n",
    "    if not bool_final_probs:\n",
    "        nx.draw(G, with_labels=True, alpha=0.8, arrows=False, labels=labels)\n",
    "    else:\n",
    "        nx.draw(G, with_labels=True, alpha=0.8, arrows=False, node_color = final_probs, \\\n",
    "                                                                                        cmap=plt.get_cmap('viridis'), labels=labels)\n",
    "\n",
    "        # adding color bar for pagerank importances\n",
    "        sm = plt.cm.ScalarMappable(cmap=plt.get_cmap('viridis'), norm=plt.Normalize(vmin = min(final_probs), vmax=max(final_probs)))\n",
    "        sm._A = []\n",
    "        plt.colorbar(sm)  \n",
    "    return plt"
   ]
  },
  {
   "cell_type": "code",
   "execution_count": 41,
   "metadata": {},
   "outputs": [],
   "source": [
    "def make_graph(G):\n",
    "    # check if Graph is directed\n",
    "    print('Directed:', nx.is_directed(G))\n",
    "\n",
    "    # check if Graph is weighted\n",
    "    print('Weighted:', nx.is_weighted(G))\n",
    "    print()\n",
    "    \n",
    "    # converting to directed Graph for PageRank\n",
    "    if not nx.is_directed(G):\n",
    "        print('Graph converted to directed..')\n",
    "        G = G.to_directed()    \n",
    "\n",
    "    print('Directed:', nx.is_directed(G))\n",
    "    print()\n",
    "\n",
    "    # labelling nodes as integers\n",
    "    print('Relabelling nodes to integers..')\n",
    "    n_unique_nodes = len(set(G.nodes()))\n",
    "    node2int = dict(zip(set(G.nodes()), range(n_unique_nodes)))\n",
    "    int2node = {v:k for k,v in node2int.items()}\n",
    "\n",
    "    G = nx.relabel_nodes(G, node2int)\n",
    "\n",
    "    # remove isolated nodes\n",
    "    print('Removing isolated nodes..')\n",
    "    nodes = G.nodes()\n",
    "    for node in nodes:\n",
    "        if len(G.edges(node))==0:\n",
    "            G.remove_node(node)\n",
    "    return G, int2node     "
   ]
  },
  {
   "cell_type": "code",
   "execution_count": 42,
   "metadata": {},
   "outputs": [
    {
     "name": "stdout",
     "output_type": "stream",
     "text": [
      "Directed: False\n",
      "Weighted: False\n",
      "\n",
      "Graph converted to directed..\n",
      "Directed: True\n",
      "\n",
      "Relabelling nodes to integers..\n",
      "Removing isolated nodes..\n"
     ]
    }
   ],
   "source": [
    "G, int2node = make_graph(G)"
   ]
  },
  {
   "cell_type": "code",
   "execution_count": 43,
   "metadata": {},
   "outputs": [],
   "source": [
    "alpha = 0.8\n",
    "def make_pagerank_matrix(G, alpha):\n",
    "    print(G)\n",
    "    n_nodes = len(G.nodes())\n",
    "\n",
    "    # building adjacent matrix\n",
    "    adj_matrix = np.zeros(shape=(n_nodes, n_nodes))\n",
    "    for edge in G.edges():\n",
    "        #adj_matrix[edge[0], edge[1]] = 1\n",
    "        adj_matrix.itemset((int(edge[0]), int(edge[1])), 1)\n",
    "\n",
    "    # building transition probability matrix\n",
    "    tran_matrix = adj_matrix / np.sum(adj_matrix, axis=1).reshape(-1,1)\n",
    "\n",
    "    # building random surfer matrix\n",
    "    random_surf = np.ones(shape = (n_nodes, n_nodes)) / n_nodes    \n",
    "\n",
    "    # building transition matrix for absorbing nodes\n",
    "    absorbing_nodes = np.zeros(shape = (n_nodes,))\n",
    "    for node in G.nodes():\n",
    "        if len(G.out_edges(node))==0:\n",
    "            absorbing_nodes[node] = 1\n",
    "    absorbing_node_matrix = np.outer(absorbing_nodes, np.ones(shape = (n_nodes,))) / n_nodes\n",
    "\n",
    "    # stochastic matrix\n",
    "    stochastic_matrix = tran_matrix + absorbing_node_matrix\n",
    "\n",
    "    # pagerank matrix\n",
    "    pagerank_matrix = alpha * stochastic_matrix + (1-alpha) * random_surf\n",
    "    return pagerank_matrix"
   ]
  },
  {
   "cell_type": "code",
   "execution_count": 44,
   "metadata": {},
   "outputs": [
    {
     "name": "stdout",
     "output_type": "stream",
     "text": [
      "DiGraph with 8 nodes and 20 edges\n"
     ]
    },
    {
     "data": {
      "text/plain": [
       "array([[0.025     , 0.29166667, 0.025     , 0.29166667, 0.025     ,\n",
       "        0.29166667, 0.025     , 0.025     ],\n",
       "       [0.425     , 0.025     , 0.025     , 0.425     , 0.025     ,\n",
       "        0.025     , 0.025     , 0.025     ],\n",
       "       [0.025     , 0.025     , 0.025     , 0.025     , 0.29166667,\n",
       "        0.025     , 0.29166667, 0.29166667],\n",
       "       [0.29166667, 0.29166667, 0.025     , 0.025     , 0.025     ,\n",
       "        0.29166667, 0.025     , 0.025     ],\n",
       "       [0.025     , 0.025     , 0.29166667, 0.025     , 0.025     ,\n",
       "        0.025     , 0.29166667, 0.29166667],\n",
       "       [0.425     , 0.025     , 0.025     , 0.425     , 0.025     ,\n",
       "        0.025     , 0.025     , 0.025     ],\n",
       "       [0.025     , 0.025     , 0.425     , 0.025     , 0.425     ,\n",
       "        0.025     , 0.025     , 0.025     ],\n",
       "       [0.025     , 0.025     , 0.425     , 0.025     , 0.425     ,\n",
       "        0.025     , 0.025     , 0.025     ]])"
      ]
     },
     "execution_count": 44,
     "metadata": {},
     "output_type": "execute_result"
    }
   ],
   "source": [
    "make_pagerank_matrix(G, alpha)"
   ]
  },
  {
   "cell_type": "code",
   "execution_count": 45,
   "metadata": {},
   "outputs": [],
   "source": [
    "def random_walk(G, alpha, n_iter):\n",
    "    n_nodes = len(G.nodes())\n",
    "    initial_state = np.ones(shape=(n_nodes,)) / n_nodes\n",
    "    pagerank_matrix = make_pagerank_matrix(G, alpha)\n",
    "\n",
    "    new_initial_state = initial_state\n",
    "    print('Running random walk..')\n",
    "    NORM = []\n",
    "    for i in range(n_iter):\n",
    "        final_state = np.dot(np.transpose(pagerank_matrix), new_initial_state)\n",
    "        \n",
    "        prev_initial_state = new_initial_state\n",
    "        new_initial_state = final_state\n",
    "        L2 = np.linalg.norm(new_initial_state-prev_initial_state)\n",
    "        NORM.append(L2)\n",
    "        if np.allclose(new_initial_state, prev_initial_state):\n",
    "            print(f'Converged at {i+1} iterations..')\n",
    "            break\n",
    "\n",
    "    plt.figure(figsize=(5,4))\n",
    "    plt.plot(range(i+1), NORM)\n",
    "    plt.xlabel('iterations')\n",
    "    plt.ylabel('Euclidean Norm')\n",
    "    plt.title('Convergence plot')\n",
    "    plt.show()\n",
    "    return final_state"
   ]
  },
  {
   "cell_type": "code",
   "execution_count": 46,
   "metadata": {},
   "outputs": [
    {
     "name": "stdout",
     "output_type": "stream",
     "text": [
      "DiGraph with 8 nodes and 20 edges\n",
      "Running random walk..\n",
      "Converged at 18 iterations..\n"
     ]
    },
    {
     "data": {
      "image/png": "[encoded data removed]",
      "text/plain": [
       "<Figure size 500x400 with 1 Axes>"
      ]
     },
     "metadata": {},
     "output_type": "display_data"
    },
    {
     "data": {
      "text/plain": [
       "array([0.14673887, 0.10326113, 0.14673887, 0.14673887, 0.14673887,\n",
       "       0.10326113, 0.10326113, 0.10326113])"
      ]
     },
     "execution_count": 46,
     "metadata": {},
     "output_type": "execute_result"
    }
   ],
   "source": [
    "random_walk(G, alpha, 1000)"
   ]
  },
  {
   "cell_type": "code",
   "execution_count": 67,
   "metadata": {},
   "outputs": [],
   "source": [
    "def run(G, alpha, n_iter):\n",
    "\n",
    "    G, int2node = make_graph(G)\n",
    "    print()\n",
    "    print('Number of nodes: ', len(G.nodes()))\n",
    "    print('Number of edges: ', len(G.edges())) \n",
    "    print()    \n",
    "\n",
    "    final_probs = random_walk(G, alpha, n_iter)\n",
    "\n",
    "    # ensuring pagerank importance for each node\n",
    "    assert len(final_probs) == len(G.nodes())\n",
    "\n",
    "    # ensuring probabilities sum to 1\n",
    "    assert np.allclose(np.sum(final_probs), 1)\n",
    "\n",
    "    print()\n",
    "    print('Pagerank importances..')\n",
    "    print(final_probs)\n",
    "\n",
    "    plt.figure(figsize=(25,8))\n",
    "    plt.subplot(121)\n",
    "    print(G.nodes()[0])\n",
    "    #plot_graph(G, None, int2node, bool_final_probs=False)\n",
    "    #clubs = np.array(list(map(lambda x: G.nodes[x]['club'], G.nodes())))\n",
    "    #labels = dict(zip(G.nodes(), clubs)) \n",
    "    nx.draw(G, with_labels=False, alpha=0.8, arrows=False)\n",
    "    #plt.subplot(122)\n",
    "    #plot_graph(G, final_probs, int2node, bool_final_probs=True)\n",
    "    #nx.draw(G, with_labels=True, alpha=0.8, arrows=False, labels=labels)\n",
    "    plt.show()\n",
    "    return final_probs"
   ]
  },
  {
   "cell_type": "code",
   "execution_count": 68,
   "metadata": {},
   "outputs": [
    {
     "name": "stdout",
     "output_type": "stream",
     "text": [
      "Directed: True\n",
      "Weighted: False\n",
      "\n",
      "Directed: True\n",
      "\n",
      "Relabelling nodes to integers..\n",
      "Removing isolated nodes..\n",
      "\n",
      "Number of nodes:  8\n",
      "Number of edges:  20\n",
      "\n",
      "DiGraph with 8 nodes and 20 edges\n",
      "Running random walk..\n",
      "Converged at 18 iterations..\n"
     ]
    },
    {
     "data": {
      "image/png": "[encoded data removed]",
      "text/plain": [
       "<Figure size 500x400 with 1 Axes>"
      ]
     },
     "metadata": {},
     "output_type": "display_data"
    },
    {
     "name": "stdout",
     "output_type": "stream",
     "text": [
      "\n",
      "Pagerank importances..\n",
      "[0.14673887 0.10326113 0.14673887 0.14673887 0.14673887 0.10326113\n",
      " 0.10326113 0.10326113]\n",
      "{}\n"
     ]
    },
    {
     "ename": "TypeError",
     "evalue": "'_AxesStack' object is not callable",
     "output_type": "error",
     "traceback": [
      "\u001b[1;31m---------------------------------------------------------------------------\u001b[0m",
      "\u001b[1;31mTypeError\u001b[0m                                 Traceback (most recent call last)",
      "Cell \u001b[1;32mIn[68], line 2\u001b[0m\n\u001b[0;32m      1\u001b[0m n_iter \u001b[38;5;241m=\u001b[39m \u001b[38;5;241m1000\u001b[39m\n\u001b[1;32m----> 2\u001b[0m final_probs \u001b[38;5;241m=\u001b[39m \u001b[43mrun\u001b[49m\u001b[43m(\u001b[49m\u001b[43mG\u001b[49m\u001b[43m,\u001b[49m\u001b[43m \u001b[49m\u001b[43malpha\u001b[49m\u001b[43m,\u001b[49m\u001b[43m \u001b[49m\u001b[43mn_iter\u001b[49m\u001b[43m)\u001b[49m\n",
      "Cell \u001b[1;32mIn[67], line 27\u001b[0m, in \u001b[0;36mrun\u001b[1;34m(G, alpha, n_iter)\u001b[0m\n\u001b[0;32m     23\u001b[0m \u001b[38;5;28mprint\u001b[39m(G\u001b[38;5;241m.\u001b[39mnodes()[\u001b[38;5;241m0\u001b[39m])\n\u001b[0;32m     24\u001b[0m \u001b[38;5;66;03m#plot_graph(G, None, int2node, bool_final_probs=False)\u001b[39;00m\n\u001b[0;32m     25\u001b[0m \u001b[38;5;66;03m#clubs = np.array(list(map(lambda x: G.nodes[x]['club'], G.nodes())))\u001b[39;00m\n\u001b[0;32m     26\u001b[0m \u001b[38;5;66;03m#labels = dict(zip(G.nodes(), clubs)) \u001b[39;00m\n\u001b[1;32m---> 27\u001b[0m \u001b[43mnx\u001b[49m\u001b[38;5;241;43m.\u001b[39;49m\u001b[43mdraw\u001b[49m\u001b[43m(\u001b[49m\u001b[43mG\u001b[49m\u001b[43m,\u001b[49m\u001b[43m \u001b[49m\u001b[43mwith_labels\u001b[49m\u001b[38;5;241;43m=\u001b[39;49m\u001b[38;5;28;43;01mFalse\u001b[39;49;00m\u001b[43m,\u001b[49m\u001b[43m \u001b[49m\u001b[43malpha\u001b[49m\u001b[38;5;241;43m=\u001b[39;49m\u001b[38;5;241;43m0.8\u001b[39;49m\u001b[43m,\u001b[49m\u001b[43m \u001b[49m\u001b[43marrows\u001b[49m\u001b[38;5;241;43m=\u001b[39;49m\u001b[38;5;28;43;01mFalse\u001b[39;49;00m\u001b[43m)\u001b[49m\n\u001b[0;32m     28\u001b[0m \u001b[38;5;66;03m#plt.subplot(122)\u001b[39;00m\n\u001b[0;32m     29\u001b[0m \u001b[38;5;66;03m#plot_graph(G, final_probs, int2node, bool_final_probs=True)\u001b[39;00m\n\u001b[0;32m     30\u001b[0m \u001b[38;5;66;03m#nx.draw(G, with_labels=True, alpha=0.8, arrows=False, labels=labels)\u001b[39;00m\n\u001b[0;32m     31\u001b[0m plt\u001b[38;5;241m.\u001b[39mshow()\n",
      "File \u001b[1;32m~\\miniconda3\\lib\\site-packages\\networkx\\drawing\\nx_pylab.py:113\u001b[0m, in \u001b[0;36mdraw\u001b[1;34m(G, pos, ax, **kwds)\u001b[0m\n\u001b[0;32m    111\u001b[0m cf\u001b[38;5;241m.\u001b[39mset_facecolor(\u001b[38;5;124m\"\u001b[39m\u001b[38;5;124mw\u001b[39m\u001b[38;5;124m\"\u001b[39m)\n\u001b[0;32m    112\u001b[0m \u001b[38;5;28;01mif\u001b[39;00m ax \u001b[38;5;129;01mis\u001b[39;00m \u001b[38;5;28;01mNone\u001b[39;00m:\n\u001b[1;32m--> 113\u001b[0m     \u001b[38;5;28;01mif\u001b[39;00m \u001b[43mcf\u001b[49m\u001b[38;5;241;43m.\u001b[39;49m\u001b[43m_axstack\u001b[49m\u001b[43m(\u001b[49m\u001b[43m)\u001b[49m \u001b[38;5;129;01mis\u001b[39;00m \u001b[38;5;28;01mNone\u001b[39;00m:\n\u001b[0;32m    114\u001b[0m         ax \u001b[38;5;241m=\u001b[39m cf\u001b[38;5;241m.\u001b[39madd_axes((\u001b[38;5;241m0\u001b[39m, \u001b[38;5;241m0\u001b[39m, \u001b[38;5;241m1\u001b[39m, \u001b[38;5;241m1\u001b[39m))\n\u001b[0;32m    115\u001b[0m     \u001b[38;5;28;01melse\u001b[39;00m:\n",
      "\u001b[1;31mTypeError\u001b[0m: '_AxesStack' object is not callable"
     ]
    },
    {
     "data": {
      "image/png": "[encoded data removed]",
      "text/plain": [
       "<Figure size 2500x800 with 1 Axes>"
      ]
     },
     "metadata": {},
     "output_type": "display_data"
    }
   ],
   "source": [
    "n_iter = 1000\n",
    "final_probs = run(G, alpha, n_iter)"
   ]
  },
  {
   "cell_type": "markdown",
   "metadata": {},
   "source": [
    "#### Exercise 2.13"
   ]
  },
  {
   "cell_type": "code",
   "execution_count": null,
   "metadata": {},
   "outputs": [],
   "source": []
  },
  {
   "cell_type": "code",
   "execution_count": null,
   "metadata": {
    "collapsed": true
   },
   "outputs": [],
   "source": []
  },
  {
   "cell_type": "markdown",
   "metadata": {},
   "source": [
    "---\n",
    "\n",
    "### 2.4.2 Power Iteration Method\n",
    "\n",
    "#### Exercise 2.14: Power Iteration method"
   ]
  },
  {
   "cell_type": "code",
   "execution_count": null,
   "metadata": {
    "collapsed": true
   },
   "outputs": [],
   "source": []
  },
  {
   "cell_type": "markdown",
   "metadata": {},
   "source": [
    "---\n",
    "\n",
    "### 2.4.3 Gaming the system *(Bonus)*\n",
    "\n",
    "#### Exercise 2.15 *(Bonus)*"
   ]
  },
  {
   "cell_type": "code",
   "execution_count": null,
   "metadata": {
    "collapsed": true
   },
   "outputs": [],
   "source": []
  }
 ],
 "metadata": {
  "kernelspec": {
   "display_name": "Python 3 (ipykernel)",
   "language": "python",
   "name": "python3"
  },
  "language_info": {
   "codemirror_mode": {
    "name": "ipython",
    "version": 3
   },
   "file_extension": ".py",
   "mimetype": "text/x-python",
   "name": "python",
   "nbconvert_exporter": "python",
   "pygments_lexer": "ipython3",
   "version": "3.10.9"
  }
 },
 "nbformat": 4,
 "nbformat_minor": 2
}
