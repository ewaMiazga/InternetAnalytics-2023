{
 "cells": [
  {
   "cell_type": "markdown",
   "metadata": {},
   "source": [
    "# Networks: structure, evolution & processes\n",
    "**Internet Analytics - Lab 2**\n",
    "\n",
    "---\n",
    "\n",
    "**Group:** *Your group letter.*\n",
    "\n",
    "**Names:**\n",
    "\n",
    "* *Name 1*\n",
    "* *Name 2*\n",
    "* *Name 3*\n",
    "\n",
    "---\n",
    "\n",
    "#### Instructions\n",
    "\n",
    "*This is a template for part 1 of the lab. Clearly write your answers, comments and interpretations in Markodown cells. Don't forget that you can add $\\LaTeX$ equations in these cells. Feel free to add or remove any cell.*\n",
    "\n",
    "*Please properly comment your code. Code readability will be considered for grading. To avoid long cells of codes in the notebook, you can also embed long python functions and classes in a separate module. Don’t forget to hand in your module if that is the case. In multiple exercises, you are required to come up with your own method to solve various problems. Be creative and clearly motivate and explain your methods. Creativity and clarity will be considered for grading.*"
   ]
  },
  {
   "cell_type": "markdown",
   "metadata": {},
   "source": [
    "---\n",
    "\n",
    "## 2.1 Exploration of real networks\n",
    "\n",
    "#### Exercise 2.1"
   ]
  },
  {
   "cell_type": "code",
   "execution_count": null,
   "metadata": {},
   "outputs": [],
   "source": [
    "#imports\n",
    "import pandas as pd\n",
    "import networkx as nx\n",
    "import matplotlib.pyplot as plt\n",
    "import collections\n",
    "import numpy as np"
   ]
  },
  {
   "cell_type": "code",
   "execution_count": 35,
   "metadata": {},
   "outputs": [
    {
     "name": "stdout",
     "output_type": "stream",
     "text": [
      "ewa\n"
     ]
    }
   ],
   "source": [
    "import pandas as pd\n",
    "\n",
    "def load_data(file_name, comment, is_header):\n",
    "    network = pd.read_csv(f'../data/{file_name}', comment = comment, header = is_header)\n",
    "    network.columns = ['fromNode', 'toNode']\n",
    "    return network\n",
    "print(\"ewa\")"
   ]
  },
  {
   "cell_type": "code",
   "execution_count": 37,
   "metadata": {},
   "outputs": [
    {
     "data": {
      "text/html": [
       "<div>\n",
       "<style scoped>\n",
       "    .dataframe tbody tr th:only-of-type {\n",
       "        vertical-align: middle;\n",
       "    }\n",
       "\n",
       "    .dataframe tbody tr th {\n",
       "        vertical-align: top;\n",
       "    }\n",
       "\n",
       "    .dataframe thead th {\n",
       "        text-align: right;\n",
       "    }\n",
       "</style>\n",
       "<table border=\"1\" class=\"dataframe\">\n",
       "  <thead>\n",
       "    <tr style=\"text-align: right;\">\n",
       "      <th></th>\n",
       "      <th>fromNode</th>\n",
       "      <th>toNode</th>\n",
       "    </tr>\n",
       "  </thead>\n",
       "  <tbody>\n",
       "    <tr>\n",
       "      <th>0</th>\n",
       "      <td>0</td>\n",
       "      <td>11932</td>\n",
       "    </tr>\n",
       "    <tr>\n",
       "      <th>1</th>\n",
       "      <td>1</td>\n",
       "      <td>5128</td>\n",
       "    </tr>\n",
       "    <tr>\n",
       "      <th>2</th>\n",
       "      <td>2</td>\n",
       "      <td>7008</td>\n",
       "    </tr>\n",
       "    <tr>\n",
       "      <th>3</th>\n",
       "      <td>3</td>\n",
       "      <td>10476</td>\n",
       "    </tr>\n",
       "    <tr>\n",
       "      <th>4</th>\n",
       "      <td>4</td>\n",
       "      <td>9671</td>\n",
       "    </tr>\n",
       "  </tbody>\n",
       "</table>\n",
       "</div>"
      ],
      "text/plain": [
       "   fromNode  toNode\n",
       "0         0   11932\n",
       "1         1    5128\n",
       "2         2    7008\n",
       "3         3   10476\n",
       "4         4    9671"
      ]
     },
     "execution_count": 37,
     "metadata": {},
     "output_type": "execute_result"
    }
   ],
   "source": [
    "network1 = load_data('network1.csv', '#', None)\n",
    "network1.head()"
   ]
  },
  {
   "cell_type": "markdown",
   "metadata": {},
   "source": [
    "#### Exercise 2.2:  Node degree distribution"
   ]
  },
  {
   "cell_type": "code",
   "execution_count": 38,
   "metadata": {},
   "outputs": [],
   "source": [
    "def create_graph(network):\n",
    "    G = nx.Graph()\n",
    "    G = nx.from_pandas_edgelist(network, 'fromNode', 'toNode')\n",
    "    return G"
   ]
  },
  {
   "cell_type": "code",
   "execution_count": 40,
   "metadata": {},
   "outputs": [],
   "source": [
    "G = create_graph(network1)"
   ]
  },
  {
   "cell_type": "code",
   "execution_count": 50,
   "metadata": {},
   "outputs": [],
   "source": [
    "def graph_info(graph):\n",
    "    num_edges = G.number_of_edges()\n",
    "    num_nodes = G.number_of_nodes()\n",
    "    return f'num of edges: {num_edges}, num of nodes: {num_nodes}'\n",
    "    "
   ]
  },
  {
   "cell_type": "code",
   "execution_count": 51,
   "metadata": {},
   "outputs": [
    {
     "data": {
      "text/plain": [
       "'num of edges: 18584, num of nodes: 13033'"
      ]
     },
     "execution_count": 51,
     "metadata": {},
     "output_type": "execute_result"
    }
   ],
   "source": [
    "graph_info(G)"
   ]
  },
  {
   "cell_type": "code",
   "execution_count": 58,
   "metadata": {},
   "outputs": [],
   "source": [
    "def get_degrees_count(G):\n",
    "    degree_sequence = sorted((val for (node, val) in G.degree()), reverse=False)\n",
    "    degreeCount = collections.Counter(degree_sequence)\n",
    "    deg, cnt = zip(*degreeCount.items())\n",
    "    return deg, cnt\n",
    "\n",
    "def display_degree_freq(G):\n",
    "    deg, cnt = get_degrees_count(G)\n",
    "\n",
    "    #fig, ax = plt.subplots(ncols=1, figsize=(16, 4))\n",
    "    plt.plot(np.log(deg), np.log(cnt), color='crimson', marker='.', zorder=2)\n",
    "    ax.set_ylabel('degree frequency')\n",
    "    ax.set_xlabel('degree')\n",
    "    return plt"
   ]
  },
  {
   "cell_type": "code",
   "execution_count": 59,
   "metadata": {},
   "outputs": [
    {
     "data": {
      "text/plain": [
       "<module 'matplotlib.pyplot' from 'C:\\\\Users\\\\ewa.miazga\\\\miniconda3\\\\lib\\\\site-packages\\\\matplotlib\\\\pyplot.py'>"
      ]
     },
     "execution_count": 59,
     "metadata": {},
     "output_type": "execute_result"
    },
    {
     "data": {
      "image/png": "[encoded data removed]",
      "text/plain": [
       "<Figure size 640x480 with 1 Axes>"
      ]
     },
     "metadata": {},
     "output_type": "display_data"
    }
   ],
   "source": [
    "display_degree_freq(G)"
   ]
  },
  {
   "cell_type": "markdown",
   "metadata": {},
   "source": [
    "1. What kind of plot do you think is useful for this task?\n",
    "**It could be a histogram, scatter or bar graph. It should show how frequent degrees appears in the dataset.**"
   ]
  },
  {
   "cell_type": "markdown",
   "metadata": {},
   "source": [
    "2. Can you list some of the properties of the degree distribution?\n",
    "**An important graph property is the degree distribution function P (k), that describes the probability to find a node with k edges**"
   ]
  },
  {
   "cell_type": "markdown",
   "metadata": {},
   "source": [
    "3. Is it close to a well-known probability distribution? If so, provide an estimation of its\n",
    "parameter(s)?\n",
    "**Probably it looks a little bit like a power-law distribution**\n",
    "**A scale-free graph is instead characterized by a power-law degree distribution P (k) = Ak −γ , usually with 2 < γ < 3. A power-law distribution appears as a straight line in a double-logarithmic plot. In a scale-free graph, low degree nodes are the most frequent ones, but there are also a few highly connected nodes, usually called hubs.**"
   ]
  },
  {
   "cell_type": "code",
   "execution_count": 12,
   "metadata": {},
   "outputs": [],
   "source": [
    "#draw the graph\n",
    "def draw_graph(G):\n",
    "    nx.draw(G)"
   ]
  },
  {
   "cell_type": "markdown",
   "metadata": {},
   "source": [
    "#### Exercise 2.3: Giant component"
   ]
  },
  {
   "cell_type": "code",
   "execution_count": 56,
   "metadata": {},
   "outputs": [],
   "source": [
    "def calc_connected_components_num(G):\n",
    "    return nx.number_connected_components(G)"
   ]
  },
  {
   "cell_type": "code",
   "execution_count": 57,
   "metadata": {},
   "outputs": [
    {
     "data": {
      "text/plain": [
       "192"
      ]
     },
     "execution_count": 57,
     "metadata": {},
     "output_type": "execute_result"
    }
   ],
   "source": [
    "calc_connected_components_num(G)"
   ]
  },
  {
   "cell_type": "code",
   "execution_count": 70,
   "metadata": {},
   "outputs": [],
   "source": [
    "def is_giant_component(G):\n",
    "    deg, cnt = get_degrees_count(G)\n",
    "    np_cnt = np.array(cnt)\n",
    "    np_deg = np.array(deg)\n",
    "    c = sum(np_cnt * np_deg) / len(G)\n",
    "    print(f'average graph degree: {c}')\n",
    "    return c > 1\n",
    "\n",
    "def giant_component_info(G):\n",
    "    if is_giant_component(G):\n",
    "        Gcc = sorted(nx.connected_components(G), key=len, reverse=True)\n",
    "        G0 = G.subgraph(Gcc[0])\n",
    "        print(G0)\n",
    "    else:\n",
    "        print(\"There is no giant component\")"
   ]
  },
  {
   "cell_type": "code",
   "execution_count": 71,
   "metadata": {},
   "outputs": [
    {
     "name": "stdout",
     "output_type": "stream",
     "text": [
      "average graph degree: 2.8518376429064682\n",
      "Graph with 12576 nodes and 18317 edges\n"
     ]
    }
   ],
   "source": [
    "giant_component_info(G)"
   ]
  },
  {
   "cell_type": "markdown",
   "metadata": {},
   "source": [
    "#### Exercise 2.4: Short paths & Small-worlds"
   ]
  },
  {
   "cell_type": "code",
   "execution_count": 72,
   "metadata": {},
   "outputs": [],
   "source": [
    "def get_avg_paths_length(G):\n",
    "    avg_length = []\n",
    "    for C in (G.subgraph(c).copy() for c in nx.connected_components(G)):\n",
    "        avg_length.append(nx.average_shortest_path_length(C))\n",
    "    return sum(avg_length) / len(avg_length)"
   ]
  },
  {
   "cell_type": "code",
   "execution_count": null,
   "metadata": {},
   "outputs": [],
   "source": [
    "#average length of connection between every two nodes in graph\n",
    "get_avg_paths_length(G)"
   ]
  },
  {
   "cell_type": "code",
   "execution_count": null,
   "metadata": {},
   "outputs": [],
   "source": [
    "def get_shortest_paths(G):\n",
    "    shortest_paths = list(nx.shortest_path_length(G))\n",
    "    paths_list = []\n",
    "    for node in shortest_paths:\n",
    "        temp = [value for value in node[1].values()]\n",
    "        paths_list.extend(temp)\n",
    "    return paths_list"
   ]
  },
  {
   "cell_type": "code",
   "execution_count": null,
   "metadata": {},
   "outputs": [],
   "source": [
    "paths_list = get_shortest_paths(G)"
   ]
  },
  {
   "cell_type": "code",
   "execution_count": null,
   "metadata": {},
   "outputs": [],
   "source": [
    "def display_shortest_paths_dist(paths_list)\n",
    "    degreeCount = collections.Counter(paths_list)\n",
    "    deg, cnt = zip(*degreeCount.items())\n",
    "\n",
    "    #fig, ax = plt.subplots(ncols=1, figsize=(16, 4))\n",
    "    ax.bar(deg, cnt)\n",
    "    ax.set_ylabel('count')\n",
    "    ax.set_xlabel('shortest path length')\n",
    "    return plt\n",
    "    #plt.show()"
   ]
  },
  {
   "cell_type": "code",
   "execution_count": null,
   "metadata": {},
   "outputs": [],
   "source": [
    "display_shortest_paths_dist(paths_list)"
   ]
  },
  {
   "cell_type": "code",
   "execution_count": 26,
   "metadata": {},
   "outputs": [],
   "source": [
    "def reachable_r(r):\n",
    "    how_many = 0\n",
    "    for node in paths_list:\n",
    "        if node <= r:\n",
    "            how_many += 1\n",
    "    print(how_many)\n",
    "    print(len(paths_list))\n",
    "    return (how_many / len(paths_list)) * 100"
   ]
  },
  {
   "cell_type": "code",
   "execution_count": 27,
   "metadata": {},
   "outputs": [
    {
     "name": "stdout",
     "output_type": "stream",
     "text": [
      "5469553\n",
      "158157161\n"
     ]
    },
    {
     "data": {
      "text/plain": [
       "3.458302466620528"
      ]
     },
     "execution_count": 27,
     "metadata": {},
     "output_type": "execute_result"
    }
   ],
   "source": [
    "r = 2\n",
    "reachable_r(r)"
   ]
  },
  {
   "cell_type": "code",
   "execution_count": 28,
   "metadata": {},
   "outputs": [
    {
     "name": "stdout",
     "output_type": "stream",
     "text": [
      "154511017\n",
      "158157161\n"
     ]
    },
    {
     "data": {
      "text/plain": [
       "97.69460707504733"
      ]
     },
     "execution_count": 28,
     "metadata": {},
     "output_type": "execute_result"
    }
   ],
   "source": [
    "r = 6\n",
    "reachable_r(r)"
   ]
  },
  {
   "cell_type": "code",
   "execution_count": 29,
   "metadata": {},
   "outputs": [
    {
     "name": "stdout",
     "output_type": "stream",
     "text": [
      "158156361\n",
      "158157161\n"
     ]
    },
    {
     "data": {
      "text/plain": [
       "99.99949417402605"
      ]
     },
     "execution_count": 29,
     "metadata": {},
     "output_type": "execute_result"
    }
   ],
   "source": [
    "r = 10\n",
    "reachable_r(r)"
   ]
  },
  {
   "cell_type": "markdown",
   "metadata": {},
   "source": [
    "#### Exercise 2.5: Network comparison"
   ]
  },
  {
   "cell_type": "code",
   "execution_count": null,
   "metadata": {},
   "outputs": [],
   "source": [
    "network2 = pd.read_csv('../data/network2.csv', comment = '#', header = None)\n",
    "network2.columns = ['fromNode', 'toNode']\n",
    "network2.head()"
   ]
  },
  {
   "cell_type": "markdown",
   "metadata": {},
   "source": [
    "**Properties of previous network**"
   ]
  },
  {
   "cell_type": "code",
   "execution_count": null,
   "metadata": {},
   "outputs": [],
   "source": [
    "#create the graph of second network\n",
    "G2 = nx.Graph()\n",
    "G2 = nx.from_pandas_edgelist(network2, 'fromNode', 'toNode')"
   ]
  },
  {
   "cell_type": "code",
   "execution_count": null,
   "metadata": {},
   "outputs": [],
   "source": [
    "#calc num of edges and nodes in the graph\n",
    "num_edges = G2.number_of_edges()\n",
    "num_nodes = G2.number_of_nodes()\n",
    "print(num_edges)\n",
    "print(num_nodes)"
   ]
  },
  {
   "cell_type": "code",
   "execution_count": null,
   "metadata": {},
   "outputs": [],
   "source": [
    "# distribution of degrees in the network\n",
    "degree_sequence = sorted((val for (node, val) in G2.degree()), reverse=False)\n",
    "degreeCount = collections.Counter(degree_sequence)\n",
    "deg, cnt = zip(*degreeCount.items())\n",
    "print(deg, cnt)\n",
    "\n",
    "fig, ax = plt.subplots(ncols=1, figsize=(16, 4))\n",
    "\n",
    "ax.scatter(deg, cnt, color='crimson', marker='.', zorder=2)\n",
    "ax.plot(deg, cnt, color='green')\n",
    "plt.axis([-10, 20, 0, 14000])\n",
    "ax.bar(deg, cnt, width=15, zorder=1)\n",
    "ax.set_ylabel('degree frequency')\n",
    "ax.set_xlabel('degree')"
   ]
  },
  {
   "cell_type": "code",
   "execution_count": null,
   "metadata": {},
   "outputs": [],
   "source": [
    "#draw the graph\n",
    "#nx.draw(G2)"
   ]
  },
  {
   "cell_type": "code",
   "execution_count": 35,
   "metadata": {},
   "outputs": [
    {
     "name": "stdout",
     "output_type": "stream",
     "text": [
      "5\n"
     ]
    }
   ],
   "source": [
    "#number of connected components in graph\n",
    "print(nx.number_connected_components(G2))"
   ]
  },
  {
   "cell_type": "code",
   "execution_count": 34,
   "metadata": {},
   "outputs": [
    {
     "name": "stdout",
     "output_type": "stream",
     "text": [
      "3.2790294627383014\n",
      "Graph with 12576 nodes and 18317 edges\n"
     ]
    }
   ],
   "source": [
    "#find giant component and show its properties if it exists\n",
    "np_cnt = np.array(cnt)\n",
    "np_deg = np.array(deg)\n",
    "c = sum(np_cnt * np_deg) / len(G2)\n",
    "\n",
    "print(c)\n",
    "if c > 1:\n",
    "    Gcc = sorted(nx.connected_components(G), key=len, reverse=True)\n",
    "    G0 = G.subgraph(Gcc[0])\n",
    "    print(G0)\n",
    "else:\n",
    "    print(\"There is no giant component\")"
   ]
  },
  {
   "cell_type": "code",
   "execution_count": null,
   "metadata": {},
   "outputs": [],
   "source": [
    "#analyse of short paths and in this context the small-world"
   ]
  },
  {
   "cell_type": "code",
   "execution_count": 36,
   "metadata": {},
   "outputs": [
    {
     "name": "stdout",
     "output_type": "stream",
     "text": [
      "21.66007803486037\n"
     ]
    }
   ],
   "source": [
    "#average length of connection between every two nodes in graph\n",
    "avg_length = []\n",
    "for C in (G2.subgraph(c).copy() for c in nx.connected_components(G2)):\n",
    "    avg_length.append(nx.average_shortest_path_length(C))\n",
    "print(sum(avg_length) / len(avg_length))"
   ]
  },
  {
   "cell_type": "code",
   "execution_count": null,
   "metadata": {},
   "outputs": [],
   "source": []
  },
  {
   "cell_type": "code",
   "execution_count": null,
   "metadata": {},
   "outputs": [],
   "source": []
  },
  {
   "cell_type": "code",
   "execution_count": null,
   "metadata": {},
   "outputs": [],
   "source": []
  },
  {
   "cell_type": "code",
   "execution_count": null,
   "metadata": {},
   "outputs": [],
   "source": []
  },
  {
   "cell_type": "markdown",
   "metadata": {},
   "source": [
    "#### Exercise 2.6: Network identification"
   ]
  },
  {
   "cell_type": "code",
   "execution_count": null,
   "metadata": {},
   "outputs": [],
   "source": []
  },
  {
   "cell_type": "code",
   "execution_count": null,
   "metadata": {},
   "outputs": [],
   "source": []
  },
  {
   "cell_type": "code",
   "execution_count": null,
   "metadata": {
    "collapsed": true
   },
   "outputs": [],
   "source": []
  }
 ],
 "metadata": {
  "kernelspec": {
   "display_name": "Python 3 (ipykernel)",
   "language": "python",
   "name": "python3"
  },
  "language_info": {
   "codemirror_mode": {
    "name": "ipython",
    "version": 3
   },
   "file_extension": ".py",
   "mimetype": "text/x-python",
   "name": "python",
   "nbconvert_exporter": "python",
   "pygments_lexer": "ipython3",
   "version": "3.10.9"
  }
 },
 "nbformat": 4,
 "nbformat_minor": 2
}
