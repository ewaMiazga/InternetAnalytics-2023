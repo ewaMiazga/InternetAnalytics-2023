{
 "cells": [
  {
   "cell_type": "markdown",
   "metadata": {},
   "source": [
    "# Networks: structure, evolution & processes\n",
    "**Internet Analytics - Lab 2**\n",
    "\n",
    "---\n",
    "\n",
    "**Group:** *J*\n",
    "\n",
    "**Names:**\n",
    "\n",
    "* *Ann-Kristin Bergmann*\n",
    "* *Nephele Aesopou*\n",
    "* *Ewa Miazga*\n",
    "\n",
    "---\n",
    "\n",
    "#### Instructions\n",
    "\n",
    "*This is a template for part 2 of the lab. Clearly write your answers, comments and interpretations in Markodown cells. Don't forget that you can add $\\LaTeX$ equations in these cells. Feel free to add or remove any cell.*\n",
    "\n",
    "*Please properly comment your code. Code readability will be considered for grading. To avoid long cells of codes in the notebook, you can also embed long python functions and classes in a separate module. Don’t forget to hand in your module if that is the case. In multiple exercises, you are required to come up with your own method to solve various problems. Be creative and clearly motivate and explain your methods. Creativity and clarity will be considered for grading.*"
   ]
  },
  {
   "cell_type": "markdown",
   "metadata": {},
   "source": [
    "---\n",
    "\n",
    "## 2.2 Network sampling\n",
    "\n",
    "#### Exercise 2.7: Random walk on the Facebook network"
   ]
  },
  {
   "cell_type": "code",
   "execution_count": 13,
   "metadata": {},
   "outputs": [],
   "source": [
    "# Import useful packages\n",
    "import requests\n",
    "import random\n",
    "import numpy as np\n",
    "import matplotlib.pyplot as plt"
   ]
  },
  {
   "cell_type": "code",
   "execution_count": 14,
   "metadata": {},
   "outputs": [],
   "source": [
    "# Base url of the API\n",
    "URL_TEMPLATE = 'http://iccluster050.iccluster.epfl.ch:5050/v1.0/facebook?user={user_id}'\n",
    "# Target user id\n",
    "user_id = 'a5771bce93e200c36f7cd9dfd0e5deaa'\n",
    "# The actual url to call \n",
    "url = URL_TEMPLATE.format(user_id=user_id)\n",
    "# Execute the HTTP Get request\n",
    "response = requests.get(url)\n",
    "# Format the json response as a Python dict\n",
    "data = response.json()\n"
   ]
  },
  {
   "cell_type": "code",
   "execution_count": 15,
   "metadata": {},
   "outputs": [],
   "source": [
    "# Random Walk algorithm. N defines the number of users we want to visit.\n",
    "def RW(source_node, N):\n",
    "    # use the same seed\n",
    "    random.seed(0)\n",
    "    \n",
    "    current_node = source_node\n",
    "    i = 0\n",
    "    ages = []\n",
    "    while (i<N):\n",
    "        # The actual url to call \n",
    "        url = URL_TEMPLATE.format(user_id=current_node)\n",
    "        # Execute the HTTP Get request\n",
    "        response = requests.get(url)\n",
    "        # Format the json response as a Python dict\n",
    "        data = response.json()\n",
    "        # Get age of current node and append it to the list of ages\n",
    "        current_age = data['age']\n",
    "        ages.append(current_age)\n",
    "        # Choose at random a friend of the current node\n",
    "        current_node = random.choice(data['friends'])\n",
    "        i += 1\n",
    "        \n",
    "    average_age = np.mean(ages)\n",
    "    print('Average age', average_age)\n",
    "    return average_age, ages"
   ]
  },
  {
   "cell_type": "code",
   "execution_count": 16,
   "metadata": {},
   "outputs": [],
   "source": [
    "# Check convergence of algorithm and print the average Facebook user age.\n",
    "def find_average_age(algorithm, source_node, N, epsilon, max_iters):\n",
    "    temp_node = algorithm(source_node,1)[0]\n",
    "    n = 0 # initialize iteration counter\n",
    "\n",
    "    while (n < max_iters):\n",
    "        current_node = algorithm('a5771bce93e200c36f7cd9dfd0e5deaa', N)[0]\n",
    "        if (abs(temp_node - current_node) > epsilon):\n",
    "            temp_node = current_node\n",
    "            n +=1\n",
    "            N += 50 # we choose to increase the number of random walks by 50 each time\n",
    "        else:\n",
    "            print(\"The algorithm converged and the mean user age is\", np.around(current_node))\n",
    "            print(\"Number of users visited is\", N)\n",
    "            break "
   ]
  },
  {
   "cell_type": "code",
   "execution_count": 17,
   "metadata": {},
   "outputs": [
    {
     "name": "stdout",
     "output_type": "stream",
     "text": [
      "Average age 13.0\n",
      "Average age 24.87\n",
      "Average age 23.8\n",
      "Average age 23.11\n",
      "Average age 22.344\n",
      "Average age 21.57\n",
      "Average age 21.614285714285714\n",
      "The algorithm converged and the mean user age is 22.0\n",
      "Number of users visited is 350\n"
     ]
    }
   ],
   "source": [
    "find_average_age(RW, user_id, 100, 0.4, 200) # N = 350"
   ]
  },
  {
   "cell_type": "markdown",
   "metadata": {},
   "source": [
    "**What is your estimation of the average age of a Facebook user?  How many users did you visit to get this estimation?**\n",
    "\n",
    "Our estimation of the average age of a Facebook user is 22 years old. We have to visit about 350 users to get this estimation (N depends on the initial value we give it and how precise we want to be when converging - epsilon)."
   ]
  },
  {
   "cell_type": "code",
   "execution_count": 18,
   "metadata": {},
   "outputs": [
    {
     "name": "stdout",
     "output_type": "stream",
     "text": [
      "Average age 24.87\n",
      "Average age 23.8\n",
      "Average age 23.11\n",
      "Average age 22.344\n",
      "Average age 21.57\n",
      "Average age 21.614285714285714\n",
      "Average age 22.0375\n",
      "Average age 21.675555555555555\n",
      "Average age 21.9\n",
      "Average age 21.78181818181818\n"
     ]
    },
    {
     "data": {
      "text/plain": [
       "[<matplotlib.lines.Line2D at 0x201920ecd00>]"
      ]
     },
     "execution_count": 18,
     "metadata": {},
     "output_type": "execute_result"
    },
    {
     "data": {
      "image/png": "[encoded data removed]",
      "text/plain": [
       "<Figure size 432x288 with 1 Axes>"
      ]
     },
     "metadata": {
      "needs_background": "light"
     },
     "output_type": "display_data"
    }
   ],
   "source": [
    "# Plot graph to investigate convergence\n",
    "N = np.arange(100,600,50)\n",
    "walks = [RW('a5771bce93e200c36f7cd9dfd0e5deaa', n)[0] for n in N]\n",
    "plt.plot(N, walks)"
   ]
  },
  {
   "cell_type": "markdown",
   "metadata": {},
   "source": [
    "#### Exercise 2.8"
   ]
  },
  {
   "cell_type": "markdown",
   "metadata": {},
   "source": [
    "1. Our average of 22 years old is not as close as we would like to 45 years old. \n",
    "2. In order to explain the discrepancy we have to investigate further:"
   ]
  },
  {
   "cell_type": "code",
   "execution_count": 19,
   "metadata": {},
   "outputs": [],
   "source": [
    "# Check frequency of ages in RW\n",
    "# Same algorithm as RW but calculates the frequency of each unique age value and plots it as a bar graph.\n",
    "def RW_freq(source_node, N):\n",
    "    ages = RW(source_node=source_node, N=N)[1]\n",
    "\n",
    "    ages, counts = np.unique(ages, return_counts=True)\n",
    "    plt.bar(ages, counts)"
   ]
  },
  {
   "cell_type": "code",
   "execution_count": 20,
   "metadata": {},
   "outputs": [
    {
     "name": "stdout",
     "output_type": "stream",
     "text": [
      "Average age 21.9\n"
     ]
    },
    {
     "data": {
      "image/png": "[encoded data removed]",
      "text/plain": [
       "<Figure size 432x288 with 1 Axes>"
      ]
     },
     "metadata": {
      "needs_background": "light"
     },
     "output_type": "display_data"
    }
   ],
   "source": [
    "RW_freq(user_id, 500)"
   ]
  },
  {
   "cell_type": "code",
   "execution_count": 21,
   "metadata": {},
   "outputs": [],
   "source": [
    "# Plot a graph to investigate the relationship between node degree and frequency\n",
    "\n",
    "def RW_degrees(source_node, N):\n",
    "    random.seed(0)\n",
    "    current_node = source_node\n",
    "    i = 0\n",
    "    degrees = []\n",
    "    while (i<N):\n",
    "        # The actual url to call \n",
    "        url = URL_TEMPLATE.format(user_id=current_node)\n",
    "        # Execute the HTTP Get request\n",
    "        response = requests.get(url)\n",
    "        # Format the json response as a Python dict\n",
    "        data = response.json()\n",
    "        current_node_degree = len(data['friends'])\n",
    "\n",
    "        # To investigate the age of the degrees that have many friends in Facebook:\n",
    "        if current_node_degree > 300:\n",
    "            print('Current user has', current_node_degree, 'friends and his age is', data['age'])\n",
    "        degrees.append(current_node_degree)\n",
    "        current_node = random.choice(data['friends'])\n",
    "        i += 1\n",
    "\n",
    "    degree, counts = np.unique(degrees, return_counts=True)\n",
    "    plt.plot(degree, counts)"
   ]
  },
  {
   "cell_type": "code",
   "execution_count": 22,
   "metadata": {},
   "outputs": [
    {
     "name": "stdout",
     "output_type": "stream",
     "text": [
      "Current user has 341 friends and his age is 13\n",
      "Current user has 768 friends and his age is 12\n",
      "Current user has 820 friends and his age is 19\n",
      "Current user has 370 friends and his age is 16\n",
      "Current user has 949 friends and his age is 15\n",
      "Current user has 550 friends and his age is 18\n",
      "Current user has 550 friends and his age is 18\n",
      "Current user has 325 friends and his age is 16\n"
     ]
    },
    {
     "data": {
      "image/png": "[encoded data removed]",
      "text/plain": [
       "<Figure size 432x288 with 1 Axes>"
      ]
     },
     "metadata": {
      "needs_background": "light"
     },
     "output_type": "display_data"
    }
   ],
   "source": [
    "RW_degrees(user_id, 500)"
   ]
  },
  {
   "cell_type": "markdown",
   "metadata": {},
   "source": [
    "2. **How would you explain the discrepancy?**\n",
    "\n",
    "Plotting the frequency of ages that we reach from the starting node (1st plot), we can clearly see that there is a big gap in ages from about 30 to 50. Thus, with the current RW algorithm I would require more older ages reached if I require for an average age of 45.\n",
    "\n",
    "It is also evident that more nodes/facebook users reached by the RW are of the age around 20, that's why the frequency is much higher there. Thus the discrepancy might be because the high degree nodes are sampled more frequently. By the third plot, we can see the users that have above 300 friends on Facebook are less than 20 years old! Hence, the probability of visiting the same \"young\" nodes is much greater, and thus this theory is very probable. \n",
    "\n",
    "3. **Implement a modification to the RW algorithm**\n",
    "\n",
    "For the new RW algorithm we changed the way we calculate the average age. We want to deal with the fact that nodes with a high degree are sampled more frequently. Hence, we \"normalize\" the ages of the nodes by dividing the age of the user by his number of friends (degree)."
   ]
  },
  {
   "cell_type": "code",
   "execution_count": 23,
   "metadata": {},
   "outputs": [],
   "source": [
    "# Random Walk algorithm. N defines the number of users we want to visit.\n",
    "def RW_updated(source_node, N):\n",
    "    # use the same seed\n",
    "    random.seed(0)\n",
    "    \n",
    "    current_node = source_node\n",
    "    i = 0\n",
    "    ages = []\n",
    "    degrees = []\n",
    "    while (i<N):\n",
    "        # The actual url to call \n",
    "        url = URL_TEMPLATE.format(user_id=current_node)\n",
    "        # Execute the HTTP Get request\n",
    "        response = requests.get(url)\n",
    "        # Format the json response as a Python dict\n",
    "        data = response.json()\n",
    "        # Get age of current node and append it to the list of ages\n",
    "\n",
    "        current_age = data['age']\n",
    "        ages.append(current_age)\n",
    "\n",
    "        current_degree = len(data['friends'])\n",
    "        degrees.append(current_degree)\n",
    "\n",
    "        # Choose at random a friend of the current node\n",
    "        current_node = random.choice(data['friends'])\n",
    "        i += 1\n",
    "\n",
    "    normalized = np.divide(ages, degrees)\n",
    "\n",
    "    average = sum(normalized) / sum(np.divide(np.ones_like(degrees), degrees))\n",
    "    print('Updated average age', average)\n",
    "    return average, ages\n"
   ]
  },
  {
   "cell_type": "code",
   "execution_count": 24,
   "metadata": {},
   "outputs": [
    {
     "name": "stdout",
     "output_type": "stream",
     "text": [
      "Updated average age 13.0\n",
      "Updated average age 52.81795543748625\n",
      "Updated average age 45.95640093752468\n",
      "Updated average age 45.3010947910664\n",
      "Updated average age 44.265519513219246\n",
      "Updated average age 42.80739807904791\n",
      "Updated average age 41.762214723126675\n",
      "Updated average age 41.76528478734188\n",
      "The algorithm converged and the mean user age is 42.0\n",
      "Number of users visited is 350\n"
     ]
    }
   ],
   "source": [
    "find_average_age(RW_updated, user_id, 50, 0.4, 200) # N = 350"
   ]
  },
  {
   "cell_type": "markdown",
   "metadata": {},
   "source": [
    "This way, our new estimation is very close to the one proposed by the study and it confirms our suspicion that the highest degree nodes appear more frequently in the random walk algorithm."
   ]
  },
  {
   "cell_type": "markdown",
   "metadata": {},
   "source": []
  }
 ],
 "metadata": {
  "kernelspec": {
   "display_name": "Python 3 (ipykernel)",
   "language": "python",
   "name": "python3"
  },
  "language_info": {
   "codemirror_mode": {
    "name": "ipython",
    "version": 3
   },
   "file_extension": ".py",
   "mimetype": "text/x-python",
   "name": "python",
   "nbconvert_exporter": "python",
   "pygments_lexer": "ipython3",
   "version": "3.9.7"
  }
 },
 "nbformat": 4,
 "nbformat_minor": 2
}
